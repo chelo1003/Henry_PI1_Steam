{
 "cells": [
  {
   "cell_type": "code",
   "execution_count": 1,
   "metadata": {},
   "outputs": [],
   "source": [
    "# Importar las librerías a utilizar\n",
    "import pandas as pd\n",
    "import matplotlib.pyplot as plt\n",
    "import seaborn as sns"
   ]
  },
  {
   "cell_type": "markdown",
   "metadata": {},
   "source": [
    "### PRE-PROCESAMIENTO"
   ]
  },
  {
   "cell_type": "code",
   "execution_count": 3,
   "metadata": {},
   "outputs": [
    {
     "data": {
      "text/html": [
       "<div>\n",
       "<style scoped>\n",
       "    .dataframe tbody tr th:only-of-type {\n",
       "        vertical-align: middle;\n",
       "    }\n",
       "\n",
       "    .dataframe tbody tr th {\n",
       "        vertical-align: top;\n",
       "    }\n",
       "\n",
       "    .dataframe thead th {\n",
       "        text-align: right;\n",
       "    }\n",
       "</style>\n",
       "<table border=\"1\" class=\"dataframe\">\n",
       "  <thead>\n",
       "    <tr style=\"text-align: right;\">\n",
       "      <th></th>\n",
       "      <th>Unnamed: 0</th>\n",
       "      <th>app_name</th>\n",
       "      <th>release_date</th>\n",
       "      <th>price</th>\n",
       "      <th>early_access</th>\n",
       "      <th>id</th>\n",
       "      <th>developer</th>\n",
       "      <th>genre</th>\n",
       "      <th>tag</th>\n",
       "      <th>spec</th>\n",
       "    </tr>\n",
       "  </thead>\n",
       "  <tbody>\n",
       "    <tr>\n",
       "      <th>0</th>\n",
       "      <td>0</td>\n",
       "      <td>Lost Summoner Kitty</td>\n",
       "      <td>2018-01-04</td>\n",
       "      <td>4.99</td>\n",
       "      <td>False</td>\n",
       "      <td>761140.0</td>\n",
       "      <td>Kotoshiro</td>\n",
       "      <td>Action</td>\n",
       "      <td>Strategy</td>\n",
       "      <td>Single-player</td>\n",
       "    </tr>\n",
       "    <tr>\n",
       "      <th>1</th>\n",
       "      <td>0</td>\n",
       "      <td>Lost Summoner Kitty</td>\n",
       "      <td>2018-01-04</td>\n",
       "      <td>4.99</td>\n",
       "      <td>False</td>\n",
       "      <td>761140.0</td>\n",
       "      <td>Kotoshiro</td>\n",
       "      <td>Action</td>\n",
       "      <td>Action</td>\n",
       "      <td>Single-player</td>\n",
       "    </tr>\n",
       "    <tr>\n",
       "      <th>2</th>\n",
       "      <td>0</td>\n",
       "      <td>Lost Summoner Kitty</td>\n",
       "      <td>2018-01-04</td>\n",
       "      <td>4.99</td>\n",
       "      <td>False</td>\n",
       "      <td>761140.0</td>\n",
       "      <td>Kotoshiro</td>\n",
       "      <td>Action</td>\n",
       "      <td>Indie</td>\n",
       "      <td>Single-player</td>\n",
       "    </tr>\n",
       "    <tr>\n",
       "      <th>3</th>\n",
       "      <td>0</td>\n",
       "      <td>Lost Summoner Kitty</td>\n",
       "      <td>2018-01-04</td>\n",
       "      <td>4.99</td>\n",
       "      <td>False</td>\n",
       "      <td>761140.0</td>\n",
       "      <td>Kotoshiro</td>\n",
       "      <td>Action</td>\n",
       "      <td>Casual</td>\n",
       "      <td>Single-player</td>\n",
       "    </tr>\n",
       "    <tr>\n",
       "      <th>4</th>\n",
       "      <td>0</td>\n",
       "      <td>Lost Summoner Kitty</td>\n",
       "      <td>2018-01-04</td>\n",
       "      <td>4.99</td>\n",
       "      <td>False</td>\n",
       "      <td>761140.0</td>\n",
       "      <td>Kotoshiro</td>\n",
       "      <td>Action</td>\n",
       "      <td>Simulation</td>\n",
       "      <td>Single-player</td>\n",
       "    </tr>\n",
       "    <tr>\n",
       "      <th>...</th>\n",
       "      <td>...</td>\n",
       "      <td>...</td>\n",
       "      <td>...</td>\n",
       "      <td>...</td>\n",
       "      <td>...</td>\n",
       "      <td>...</td>\n",
       "      <td>...</td>\n",
       "      <td>...</td>\n",
       "      <td>...</td>\n",
       "      <td>...</td>\n",
       "    </tr>\n",
       "    <tr>\n",
       "      <th>2088821</th>\n",
       "      <td>32134</td>\n",
       "      <td>Maze Run VR</td>\n",
       "      <td>NaN</td>\n",
       "      <td>4.99</td>\n",
       "      <td>True</td>\n",
       "      <td>681550.0</td>\n",
       "      <td>NaN</td>\n",
       "      <td>NaN</td>\n",
       "      <td>VR</td>\n",
       "      <td>HTC Vive</td>\n",
       "    </tr>\n",
       "    <tr>\n",
       "      <th>2088822</th>\n",
       "      <td>32134</td>\n",
       "      <td>Maze Run VR</td>\n",
       "      <td>NaN</td>\n",
       "      <td>4.99</td>\n",
       "      <td>True</td>\n",
       "      <td>681550.0</td>\n",
       "      <td>NaN</td>\n",
       "      <td>NaN</td>\n",
       "      <td>VR</td>\n",
       "      <td>Oculus Rift</td>\n",
       "    </tr>\n",
       "    <tr>\n",
       "      <th>2088823</th>\n",
       "      <td>32134</td>\n",
       "      <td>Maze Run VR</td>\n",
       "      <td>NaN</td>\n",
       "      <td>4.99</td>\n",
       "      <td>True</td>\n",
       "      <td>681550.0</td>\n",
       "      <td>NaN</td>\n",
       "      <td>NaN</td>\n",
       "      <td>VR</td>\n",
       "      <td>Tracked Motion Controllers</td>\n",
       "    </tr>\n",
       "    <tr>\n",
       "      <th>2088824</th>\n",
       "      <td>32134</td>\n",
       "      <td>Maze Run VR</td>\n",
       "      <td>NaN</td>\n",
       "      <td>4.99</td>\n",
       "      <td>True</td>\n",
       "      <td>681550.0</td>\n",
       "      <td>NaN</td>\n",
       "      <td>NaN</td>\n",
       "      <td>VR</td>\n",
       "      <td>Standing</td>\n",
       "    </tr>\n",
       "    <tr>\n",
       "      <th>2088825</th>\n",
       "      <td>32134</td>\n",
       "      <td>Maze Run VR</td>\n",
       "      <td>NaN</td>\n",
       "      <td>4.99</td>\n",
       "      <td>True</td>\n",
       "      <td>681550.0</td>\n",
       "      <td>NaN</td>\n",
       "      <td>NaN</td>\n",
       "      <td>VR</td>\n",
       "      <td>Room-Scale</td>\n",
       "    </tr>\n",
       "  </tbody>\n",
       "</table>\n",
       "<p>2088826 rows × 10 columns</p>\n",
       "</div>"
      ],
      "text/plain": [
       "         Unnamed: 0             app_name release_date price  early_access  \\\n",
       "0                 0  Lost Summoner Kitty   2018-01-04  4.99         False   \n",
       "1                 0  Lost Summoner Kitty   2018-01-04  4.99         False   \n",
       "2                 0  Lost Summoner Kitty   2018-01-04  4.99         False   \n",
       "3                 0  Lost Summoner Kitty   2018-01-04  4.99         False   \n",
       "4                 0  Lost Summoner Kitty   2018-01-04  4.99         False   \n",
       "...             ...                  ...          ...   ...           ...   \n",
       "2088821       32134          Maze Run VR          NaN  4.99          True   \n",
       "2088822       32134          Maze Run VR          NaN  4.99          True   \n",
       "2088823       32134          Maze Run VR          NaN  4.99          True   \n",
       "2088824       32134          Maze Run VR          NaN  4.99          True   \n",
       "2088825       32134          Maze Run VR          NaN  4.99          True   \n",
       "\n",
       "               id  developer   genre         tag                        spec  \n",
       "0        761140.0  Kotoshiro  Action    Strategy               Single-player  \n",
       "1        761140.0  Kotoshiro  Action      Action               Single-player  \n",
       "2        761140.0  Kotoshiro  Action       Indie               Single-player  \n",
       "3        761140.0  Kotoshiro  Action      Casual               Single-player  \n",
       "4        761140.0  Kotoshiro  Action  Simulation               Single-player  \n",
       "...           ...        ...     ...         ...                         ...  \n",
       "2088821  681550.0        NaN     NaN          VR                    HTC Vive  \n",
       "2088822  681550.0        NaN     NaN          VR                 Oculus Rift  \n",
       "2088823  681550.0        NaN     NaN          VR  Tracked Motion Controllers  \n",
       "2088824  681550.0        NaN     NaN          VR                    Standing  \n",
       "2088825  681550.0        NaN     NaN          VR                  Room-Scale  \n",
       "\n",
       "[2088826 rows x 10 columns]"
      ]
     },
     "execution_count": 3,
     "metadata": {},
     "output_type": "execute_result"
    }
   ],
   "source": [
    "# Cargar el Dataframe\n",
    "df_steam_games = pd.read_csv(\"C:/Users/Usuario/Desktop/Varios yo/SoyHenry/P1/Henry_PI1_Steam/data/steam_games_2.csv\")\n",
    "df_steam_games"
   ]
  },
  {
   "cell_type": "code",
   "execution_count": 4,
   "metadata": {},
   "outputs": [
    {
     "name": "stdout",
     "output_type": "stream",
     "text": [
      "Unnamed: 0           0\n",
      "app_name             9\n",
      "release_date    105531\n",
      "price            68776\n",
      "early_access         0\n",
      "id                 201\n",
      "developer        93745\n",
      "genre            86886\n",
      "tag                321\n",
      "spec              3317\n",
      "dtype: int64\n"
     ]
    }
   ],
   "source": [
    "print(df_steam_games.isna().sum())"
   ]
  },
  {
   "cell_type": "code",
   "execution_count": 5,
   "metadata": {},
   "outputs": [
    {
     "data": {
      "text/plain": [
       "22"
      ]
     },
     "execution_count": 5,
     "metadata": {},
     "output_type": "execute_result"
    }
   ],
   "source": [
    "df_steam_games['genre'].nunique()"
   ]
  },
  {
   "cell_type": "code",
   "execution_count": 6,
   "metadata": {},
   "outputs": [
    {
     "data": {
      "text/plain": [
       "339"
      ]
     },
     "execution_count": 6,
     "metadata": {},
     "output_type": "execute_result"
    }
   ],
   "source": [
    "df_steam_games['tag'].nunique()"
   ]
  },
  {
   "cell_type": "markdown",
   "metadata": {},
   "source": [
    "Quiero llenar los nulos de la columna género con los del tag o etiqueta, pero los valores únicos de género son 22 y los de tag son 339, por lo tanto voy a rellenar los nulos de la columna género con los de la columna tag, si y solo si, el valor correspondiente de la columna tag es uno de los 22 géneros."
   ]
  },
  {
   "cell_type": "code",
   "execution_count": 7,
   "metadata": {},
   "outputs": [
    {
     "data": {
      "text/plain": [
       "array(['Action', 'Casual', 'Indie', 'Simulation', 'Strategy',\n",
       "       'Free to Play', 'RPG', 'Sports', 'Adventure', 'Racing',\n",
       "       'Early Access', 'Massively Multiplayer',\n",
       "       'Animation &amp; Modeling', 'Video Production', 'Utilities',\n",
       "       'Web Publishing', 'Education', 'Software Training',\n",
       "       'Design &amp; Illustration', 'Audio Production', 'Photo Editing',\n",
       "       'Accounting'], dtype=object)"
      ]
     },
     "execution_count": 7,
     "metadata": {},
     "output_type": "execute_result"
    }
   ],
   "source": [
    "# Extraer los valores únicos de la columna 'genre'\n",
    "unique_genero = df_steam_games['genre'].dropna().unique()\n",
    "unique_genero"
   ]
  },
  {
   "cell_type": "code",
   "execution_count": 8,
   "metadata": {},
   "outputs": [],
   "source": [
    "# Crear una función (con ayuda de copilot), que haga el relleno solo si se cumplen las dos condiciones que necesito\n",
    "def fill_genre(row):\n",
    "    if pd.isnull(row['genre']) and row['tag'] in unique_genero:\n",
    "        return row['tag']\n",
    "    else:\n",
    "        return row['genre']"
   ]
  },
  {
   "cell_type": "code",
   "execution_count": 9,
   "metadata": {},
   "outputs": [],
   "source": [
    "# Aplicarle la función al Dataframe\n",
    "df_steam_games['genre'] = df_steam_games.apply(fill_genre, axis=1)"
   ]
  },
  {
   "cell_type": "code",
   "execution_count": 10,
   "metadata": {},
   "outputs": [
    {
     "name": "stdout",
     "output_type": "stream",
     "text": [
      "Unnamed: 0           0\n",
      "app_name             9\n",
      "release_date    105531\n",
      "price            68776\n",
      "early_access         0\n",
      "id                 201\n",
      "developer        93745\n",
      "genre            42326\n",
      "tag                321\n",
      "spec              3317\n",
      "dtype: int64\n"
     ]
    }
   ],
   "source": [
    "print(df_steam_games.isna().sum())"
   ]
  },
  {
   "cell_type": "markdown",
   "metadata": {},
   "source": [
    "Se redujo a la mitad la cantidad de nulos de la columna de género."
   ]
  },
  {
   "cell_type": "code",
   "execution_count": 11,
   "metadata": {},
   "outputs": [],
   "source": [
    "# Eliminar la columna creada por no sacar el índice cuando se exportó\n",
    "df_steam_games.drop(\"Unnamed: 0\", axis=1, inplace=True)\n",
    "\n",
    "# Eliminar la columna 'tag' por ser redundante con 'genre'\n",
    "df_steam_games.drop(\"tag\", axis=1, inplace=True)\n",
    "\n",
    "# Eliminar la columna 'spec' porque las especificaciones no se va a tener en cuentra para el modelizado\n",
    "df_steam_games.drop(\"spec\", axis=1, inplace=True)\n",
    "\n",
    "# Eliminar la columna 'early_acces' porque no es un parámetro que se va a tener en cuentra para el modelizado\n",
    "df_steam_games.drop(\"early_access\", axis=1, inplace=True)"
   ]
  },
  {
   "cell_type": "code",
   "execution_count": 12,
   "metadata": {},
   "outputs": [],
   "source": [
    "# Eliminar valores nulos de id de juego, que son pocos y no van a permitir la unión de Dataframes\n",
    "df_steam_games.dropna(subset= 'id', inplace=True)"
   ]
  },
  {
   "cell_type": "code",
   "execution_count": 13,
   "metadata": {},
   "outputs": [],
   "source": [
    "# Eliminar valores duplicados\n",
    "df_steam_games.drop_duplicates(inplace=True)"
   ]
  },
  {
   "cell_type": "code",
   "execution_count": 14,
   "metadata": {},
   "outputs": [
    {
     "name": "stdout",
     "output_type": "stream",
     "text": [
      "<class 'pandas.core.frame.DataFrame'>\n",
      "Index: 80839 entries, 0 to 2088818\n",
      "Data columns (total 6 columns):\n",
      " #   Column        Non-Null Count  Dtype  \n",
      "---  ------        --------------  -----  \n",
      " 0   app_name      80837 non-null  object \n",
      " 1   release_date  72229 non-null  object \n",
      " 2   price         77219 non-null  object \n",
      " 3   id            80839 non-null  float64\n",
      " 4   developer     71395 non-null  object \n",
      " 5   genre         77783 non-null  object \n",
      "dtypes: float64(1), object(5)\n",
      "memory usage: 4.3+ MB\n"
     ]
    }
   ],
   "source": [
    "df_steam_games.info()"
   ]
  },
  {
   "cell_type": "code",
   "execution_count": 15,
   "metadata": {},
   "outputs": [
    {
     "name": "stdout",
     "output_type": "stream",
     "text": [
      "app_name           2\n",
      "release_date    8610\n",
      "price           3620\n",
      "id                 0\n",
      "developer       9444\n",
      "genre           3056\n",
      "dtype: int64\n"
     ]
    }
   ],
   "source": [
    "print(df_steam_games.isna().sum())"
   ]
  },
  {
   "cell_type": "code",
   "execution_count": 16,
   "metadata": {},
   "outputs": [
    {
     "name": "stdout",
     "output_type": "stream",
     "text": [
      "app_name           2\n",
      "release_date    8610\n",
      "price           3620\n",
      "id                 0\n",
      "developer       9444\n",
      "genre           3056\n",
      "dtype: int64\n"
     ]
    }
   ],
   "source": [
    "print(df_steam_games.isna().sum())"
   ]
  },
  {
   "cell_type": "code",
   "execution_count": 17,
   "metadata": {},
   "outputs": [
    {
     "data": {
      "text/html": [
       "<div>\n",
       "<style scoped>\n",
       "    .dataframe tbody tr th:only-of-type {\n",
       "        vertical-align: middle;\n",
       "    }\n",
       "\n",
       "    .dataframe tbody tr th {\n",
       "        vertical-align: top;\n",
       "    }\n",
       "\n",
       "    .dataframe thead th {\n",
       "        text-align: right;\n",
       "    }\n",
       "</style>\n",
       "<table border=\"1\" class=\"dataframe\">\n",
       "  <thead>\n",
       "    <tr style=\"text-align: right;\">\n",
       "      <th></th>\n",
       "      <th>app_name</th>\n",
       "      <th>release_date</th>\n",
       "      <th>price</th>\n",
       "      <th>id</th>\n",
       "      <th>developer</th>\n",
       "      <th>genre</th>\n",
       "    </tr>\n",
       "  </thead>\n",
       "  <tbody>\n",
       "    <tr>\n",
       "      <th>0</th>\n",
       "      <td>Lost Summoner Kitty</td>\n",
       "      <td>2018-01-04</td>\n",
       "      <td>4.99</td>\n",
       "      <td>761140.0</td>\n",
       "      <td>Kotoshiro</td>\n",
       "      <td>Action</td>\n",
       "    </tr>\n",
       "    <tr>\n",
       "      <th>5</th>\n",
       "      <td>Lost Summoner Kitty</td>\n",
       "      <td>2018-01-04</td>\n",
       "      <td>4.99</td>\n",
       "      <td>761140.0</td>\n",
       "      <td>Kotoshiro</td>\n",
       "      <td>Casual</td>\n",
       "    </tr>\n",
       "    <tr>\n",
       "      <th>10</th>\n",
       "      <td>Lost Summoner Kitty</td>\n",
       "      <td>2018-01-04</td>\n",
       "      <td>4.99</td>\n",
       "      <td>761140.0</td>\n",
       "      <td>Kotoshiro</td>\n",
       "      <td>Indie</td>\n",
       "    </tr>\n",
       "    <tr>\n",
       "      <th>15</th>\n",
       "      <td>Lost Summoner Kitty</td>\n",
       "      <td>2018-01-04</td>\n",
       "      <td>4.99</td>\n",
       "      <td>761140.0</td>\n",
       "      <td>Kotoshiro</td>\n",
       "      <td>Simulation</td>\n",
       "    </tr>\n",
       "    <tr>\n",
       "      <th>20</th>\n",
       "      <td>Lost Summoner Kitty</td>\n",
       "      <td>2018-01-04</td>\n",
       "      <td>4.99</td>\n",
       "      <td>761140.0</td>\n",
       "      <td>Kotoshiro</td>\n",
       "      <td>Strategy</td>\n",
       "    </tr>\n",
       "    <tr>\n",
       "      <th>...</th>\n",
       "      <td>...</td>\n",
       "      <td>...</td>\n",
       "      <td>...</td>\n",
       "      <td>...</td>\n",
       "      <td>...</td>\n",
       "      <td>...</td>\n",
       "    </tr>\n",
       "    <tr>\n",
       "      <th>2088786</th>\n",
       "      <td>Maze Run VR</td>\n",
       "      <td>NaN</td>\n",
       "      <td>4.99</td>\n",
       "      <td>681550.0</td>\n",
       "      <td>NaN</td>\n",
       "      <td>Adventure</td>\n",
       "    </tr>\n",
       "    <tr>\n",
       "      <th>2088794</th>\n",
       "      <td>Maze Run VR</td>\n",
       "      <td>NaN</td>\n",
       "      <td>4.99</td>\n",
       "      <td>681550.0</td>\n",
       "      <td>NaN</td>\n",
       "      <td>Indie</td>\n",
       "    </tr>\n",
       "    <tr>\n",
       "      <th>2088802</th>\n",
       "      <td>Maze Run VR</td>\n",
       "      <td>NaN</td>\n",
       "      <td>4.99</td>\n",
       "      <td>681550.0</td>\n",
       "      <td>NaN</td>\n",
       "      <td>Action</td>\n",
       "    </tr>\n",
       "    <tr>\n",
       "      <th>2088810</th>\n",
       "      <td>Maze Run VR</td>\n",
       "      <td>NaN</td>\n",
       "      <td>4.99</td>\n",
       "      <td>681550.0</td>\n",
       "      <td>NaN</td>\n",
       "      <td>Simulation</td>\n",
       "    </tr>\n",
       "    <tr>\n",
       "      <th>2088818</th>\n",
       "      <td>Maze Run VR</td>\n",
       "      <td>NaN</td>\n",
       "      <td>4.99</td>\n",
       "      <td>681550.0</td>\n",
       "      <td>NaN</td>\n",
       "      <td>NaN</td>\n",
       "    </tr>\n",
       "  </tbody>\n",
       "</table>\n",
       "<p>80839 rows × 6 columns</p>\n",
       "</div>"
      ],
      "text/plain": [
       "                    app_name release_date price        id  developer  \\\n",
       "0        Lost Summoner Kitty   2018-01-04  4.99  761140.0  Kotoshiro   \n",
       "5        Lost Summoner Kitty   2018-01-04  4.99  761140.0  Kotoshiro   \n",
       "10       Lost Summoner Kitty   2018-01-04  4.99  761140.0  Kotoshiro   \n",
       "15       Lost Summoner Kitty   2018-01-04  4.99  761140.0  Kotoshiro   \n",
       "20       Lost Summoner Kitty   2018-01-04  4.99  761140.0  Kotoshiro   \n",
       "...                      ...          ...   ...       ...        ...   \n",
       "2088786          Maze Run VR          NaN  4.99  681550.0        NaN   \n",
       "2088794          Maze Run VR          NaN  4.99  681550.0        NaN   \n",
       "2088802          Maze Run VR          NaN  4.99  681550.0        NaN   \n",
       "2088810          Maze Run VR          NaN  4.99  681550.0        NaN   \n",
       "2088818          Maze Run VR          NaN  4.99  681550.0        NaN   \n",
       "\n",
       "              genre  \n",
       "0            Action  \n",
       "5            Casual  \n",
       "10            Indie  \n",
       "15       Simulation  \n",
       "20         Strategy  \n",
       "...             ...  \n",
       "2088786   Adventure  \n",
       "2088794       Indie  \n",
       "2088802      Action  \n",
       "2088810  Simulation  \n",
       "2088818         NaN  \n",
       "\n",
       "[80839 rows x 6 columns]"
      ]
     },
     "execution_count": 17,
     "metadata": {},
     "output_type": "execute_result"
    }
   ],
   "source": [
    "df_steam_games"
   ]
  },
  {
   "cell_type": "code",
   "execution_count": 18,
   "metadata": {},
   "outputs": [],
   "source": [
    "# Completar los valores faltantes para nombre del juego\n",
    "df_steam_games[\"app_name\"].fillna(\"sin datos\", inplace=True)"
   ]
  },
  {
   "cell_type": "code",
   "execution_count": 19,
   "metadata": {},
   "outputs": [],
   "source": [
    "# Completar los valores faltantes para desarrollador\n",
    "df_steam_games[\"developer\"].fillna(\"sin datos\", inplace=True)"
   ]
  },
  {
   "cell_type": "code",
   "execution_count": 20,
   "metadata": {},
   "outputs": [],
   "source": [
    "# Completar los valores faltantes para género\n",
    "df_steam_games[\"genre\"].fillna(\"sin especificar\", inplace=True)"
   ]
  },
  {
   "cell_type": "code",
   "execution_count": 21,
   "metadata": {},
   "outputs": [
    {
     "name": "stdout",
     "output_type": "stream",
     "text": [
      "app_name           0\n",
      "release_date    8610\n",
      "price           3620\n",
      "id                 0\n",
      "developer          0\n",
      "genre              0\n",
      "dtype: int64\n"
     ]
    }
   ],
   "source": [
    "print(df_steam_games.isna().sum())"
   ]
  },
  {
   "cell_type": "markdown",
   "metadata": {},
   "source": [
    "### EDA GENRE"
   ]
  },
  {
   "cell_type": "code",
   "execution_count": 22,
   "metadata": {},
   "outputs": [
    {
     "name": "stdout",
     "output_type": "stream",
     "text": [
      "<class 'pandas.core.series.Series'>\n",
      "Index: 80839 entries, 0 to 2088818\n",
      "Series name: genre\n",
      "Non-Null Count  Dtype \n",
      "--------------  ----- \n",
      "80839 non-null  object\n",
      "dtypes: object(1)\n",
      "memory usage: 1.2+ MB\n"
     ]
    }
   ],
   "source": [
    "df_steam_games['genre'].info()"
   ]
  },
  {
   "cell_type": "code",
   "execution_count": 23,
   "metadata": {},
   "outputs": [
    {
     "data": {
      "text/plain": [
       "count     80839\n",
       "unique       23\n",
       "top       Indie\n",
       "freq      17138\n",
       "Name: genre, dtype: object"
      ]
     },
     "execution_count": 23,
     "metadata": {},
     "output_type": "execute_result"
    }
   ],
   "source": [
    "df_steam_games['genre'].describe()"
   ]
  },
  {
   "cell_type": "code",
   "execution_count": 24,
   "metadata": {},
   "outputs": [
    {
     "data": {
      "text/plain": [
       "genre\n",
       "Indie                        17138\n",
       "Action                       12431\n",
       "Casual                        9159\n",
       "Adventure                     8855\n",
       "Simulation                    7381\n",
       "Strategy                      7164\n",
       "RPG                           5610\n",
       "sin especificar               3056\n",
       "Free to Play                  2214\n",
       "Early Access                  1947\n",
       "Sports                        1548\n",
       "Racing                        1191\n",
       "Massively Multiplayer         1147\n",
       "Design &amp; Illustration      460\n",
       "Utilities                      425\n",
       "Web Publishing                 273\n",
       "Education                      192\n",
       "Animation &amp; Modeling       183\n",
       "Video Production               151\n",
       "Software Training              118\n",
       "Audio Production               110\n",
       "Photo Editing                   79\n",
       "Accounting                       7\n",
       "Name: count, dtype: int64"
      ]
     },
     "execution_count": 24,
     "metadata": {},
     "output_type": "execute_result"
    }
   ],
   "source": [
    "df_steam_games['genre'].value_counts()"
   ]
  },
  {
   "cell_type": "markdown",
   "metadata": {},
   "source": [
    "### EDA FECHA DE LANZAMIENTO"
   ]
  },
  {
   "cell_type": "code",
   "execution_count": 25,
   "metadata": {},
   "outputs": [
    {
     "data": {
      "text/plain": [
       "array(['2018-01-04', '2017-07-24', '2017-12-07', ..., '2004-03-01',\n",
       "       '2016-11-19', '2018-10-01'], dtype=object)"
      ]
     },
     "execution_count": 25,
     "metadata": {},
     "output_type": "execute_result"
    }
   ],
   "source": [
    "df_steam_games['release_date'].unique()"
   ]
  },
  {
   "cell_type": "code",
   "execution_count": 26,
   "metadata": {},
   "outputs": [],
   "source": [
    "# Convertir la columna 'release_date' a datos de fecha con el formato 'YYYY-MM-DD'\n",
    "df_steam_games['release_date'] = pd.to_datetime(df_steam_games['release_date'], format='%Y-%m-%d', errors='coerce')"
   ]
  },
  {
   "cell_type": "code",
   "execution_count": 27,
   "metadata": {},
   "outputs": [],
   "source": [
    "# Extraer el año\n",
    "df_steam_games['release_date'] = df_steam_games['release_date'].dt.year"
   ]
  },
  {
   "cell_type": "code",
   "execution_count": 28,
   "metadata": {},
   "outputs": [
    {
     "data": {
      "text/plain": [
       "array([2018., 2017.,   nan, 1997., 1998., 2016., 2006., 2005., 2003.,\n",
       "       2007., 2002., 2000., 1995., 1996., 1994., 2001., 1993., 2004.,\n",
       "       1999., 2008., 2009., 1992., 1989., 2010., 2011., 2013., 2012.,\n",
       "       2014., 1983., 1984., 2015., 1990., 1988., 1991., 1985., 1982.,\n",
       "       1987., 1981., 1986., 2021., 2019., 1975., 1970., 1980.])"
      ]
     },
     "execution_count": 28,
     "metadata": {},
     "output_type": "execute_result"
    }
   ],
   "source": [
    "df_steam_games['release_date'].unique()"
   ]
  },
  {
   "cell_type": "code",
   "execution_count": 29,
   "metadata": {},
   "outputs": [
    {
     "name": "stdout",
     "output_type": "stream",
     "text": [
      "app_name           0\n",
      "release_date    8610\n",
      "price           3620\n",
      "id                 0\n",
      "developer          0\n",
      "genre              0\n",
      "dtype: int64\n"
     ]
    }
   ],
   "source": [
    "print(df_steam_games.isna().sum())"
   ]
  },
  {
   "cell_type": "markdown",
   "metadata": {},
   "source": [
    "(Por el momento no voy a eliminar los NaN de fecha de lanzamiento, ya que implicaría perder 8610 registros (un 10% de los datos). De ser necesario se eliminan con una línea de código en la etapa de modelo.)"
   ]
  },
  {
   "cell_type": "code",
   "execution_count": 30,
   "metadata": {},
   "outputs": [
    {
     "name": "stdout",
     "output_type": "stream",
     "text": [
      "release_date\n",
      "2017.0    25318\n",
      "2016.0    17935\n",
      "2015.0    12465\n",
      "2014.0     6475\n",
      "2013.0     3111\n",
      "2012.0     2185\n",
      "2011.0     1050\n",
      "2010.0      709\n",
      "2009.0      518\n",
      "2008.0      358\n",
      "2018.0      316\n",
      "2007.0      285\n",
      "2006.0      237\n",
      "2005.0      152\n",
      "2003.0      129\n",
      "2001.0      122\n",
      "2004.0      114\n",
      "1999.0       89\n",
      "1998.0       89\n",
      "2002.0       72\n",
      "1997.0       67\n",
      "2000.0       64\n",
      "1996.0       61\n",
      "1994.0       56\n",
      "1993.0       52\n",
      "1995.0       51\n",
      "1992.0       26\n",
      "1991.0       26\n",
      "1990.0       16\n",
      "1989.0       14\n",
      "1988.0       11\n",
      "1987.0       10\n",
      "2019.0       10\n",
      "1984.0        7\n",
      "1983.0        6\n",
      "1986.0        5\n",
      "1985.0        4\n",
      "1982.0        4\n",
      "1981.0        3\n",
      "2021.0        3\n",
      "1970.0        2\n",
      "1975.0        1\n",
      "1980.0        1\n",
      "Name: count, dtype: int64\n"
     ]
    }
   ],
   "source": [
    "# Contar la frecuencia de cada fecha\n",
    "value_counts =df_steam_games['release_date'].value_counts()\n",
    "\n",
    "print(value_counts)"
   ]
  },
  {
   "cell_type": "code",
   "execution_count": 31,
   "metadata": {},
   "outputs": [
    {
     "data": {
      "image/png": "[encoded data removed]",
      "text/plain": [
       "<Figure size 1000x500 with 1 Axes>"
      ]
     },
     "metadata": {},
     "output_type": "display_data"
    }
   ],
   "source": [
    "# Agrupar los datos por año y contar la cantidad de juegos en cada año\n",
    "recuento = df_steam_games['release_date'].value_counts().sort_index()\n",
    "\n",
    "# Crear un gráfico de barras\n",
    "plt.figure(figsize=(10, 5))\n",
    "plt.bar(recuento.index, recuento.values, color='green')\n",
    "\n",
    "# Configurar etiquetas y título\n",
    "plt.xlabel('Año de Lanzamiento')\n",
    "plt.ylabel('Cantidad de Juegos')\n",
    "plt.title('Lanzamientos de Juegos en el Tiempo (que están disponibles en Steam)')\n",
    "\n",
    "# Mostrar el gráfico\n",
    "plt.grid()\n",
    "plt.show()"
   ]
  },
  {
   "cell_type": "markdown",
   "metadata": {},
   "source": [
    "### EDA PRECIO"
   ]
  },
  {
   "cell_type": "code",
   "execution_count": 32,
   "metadata": {},
   "outputs": [
    {
     "name": "stdout",
     "output_type": "stream",
     "text": [
      "app_name           0\n",
      "release_date    8610\n",
      "price           3620\n",
      "id                 0\n",
      "developer          0\n",
      "genre              0\n",
      "dtype: int64\n"
     ]
    }
   ],
   "source": [
    "print(df_steam_games.isna().sum())"
   ]
  },
  {
   "cell_type": "markdown",
   "metadata": {},
   "source": [
    "Para el análisis de precios voy a trabajar con 2 datasets, el original para buscar relaciones entre precio y género, y uno modificado, eliminando los duplicados de la columna nombre, ya que un juego aparece varias veces en diferentes categorías y eso modifica la distribución de la variable."
   ]
  },
  {
   "cell_type": "code",
   "execution_count": 33,
   "metadata": {},
   "outputs": [
    {
     "data": {
      "text/html": [
       "<div>\n",
       "<style scoped>\n",
       "    .dataframe tbody tr th:only-of-type {\n",
       "        vertical-align: middle;\n",
       "    }\n",
       "\n",
       "    .dataframe tbody tr th {\n",
       "        vertical-align: top;\n",
       "    }\n",
       "\n",
       "    .dataframe thead th {\n",
       "        text-align: right;\n",
       "    }\n",
       "</style>\n",
       "<table border=\"1\" class=\"dataframe\">\n",
       "  <thead>\n",
       "    <tr style=\"text-align: right;\">\n",
       "      <th></th>\n",
       "      <th>app_name</th>\n",
       "      <th>release_date</th>\n",
       "      <th>price</th>\n",
       "      <th>id</th>\n",
       "      <th>developer</th>\n",
       "      <th>genre</th>\n",
       "    </tr>\n",
       "  </thead>\n",
       "  <tbody>\n",
       "    <tr>\n",
       "      <th>0</th>\n",
       "      <td>Lost Summoner Kitty</td>\n",
       "      <td>2018.0</td>\n",
       "      <td>4.99</td>\n",
       "      <td>761140.0</td>\n",
       "      <td>Kotoshiro</td>\n",
       "      <td>Action</td>\n",
       "    </tr>\n",
       "    <tr>\n",
       "      <th>25</th>\n",
       "      <td>Ironbound</td>\n",
       "      <td>2018.0</td>\n",
       "      <td>Free To Play</td>\n",
       "      <td>643980.0</td>\n",
       "      <td>Secret Level SRL</td>\n",
       "      <td>Free to Play</td>\n",
       "    </tr>\n",
       "    <tr>\n",
       "      <th>557</th>\n",
       "      <td>Real Pool 3D - Poolians</td>\n",
       "      <td>2017.0</td>\n",
       "      <td>Free to Play</td>\n",
       "      <td>670290.0</td>\n",
       "      <td>Poolians.com</td>\n",
       "      <td>Casual</td>\n",
       "    </tr>\n",
       "    <tr>\n",
       "      <th>707</th>\n",
       "      <td>弹炸人2222</td>\n",
       "      <td>2017.0</td>\n",
       "      <td>0.99</td>\n",
       "      <td>767400.0</td>\n",
       "      <td>彼岸领域</td>\n",
       "      <td>Action</td>\n",
       "    </tr>\n",
       "    <tr>\n",
       "      <th>716</th>\n",
       "      <td>Log Challenge</td>\n",
       "      <td>NaN</td>\n",
       "      <td>2.99</td>\n",
       "      <td>773570.0</td>\n",
       "      <td>sin datos</td>\n",
       "      <td>Action</td>\n",
       "    </tr>\n",
       "    <tr>\n",
       "      <th>...</th>\n",
       "      <td>...</td>\n",
       "      <td>...</td>\n",
       "      <td>...</td>\n",
       "      <td>...</td>\n",
       "      <td>...</td>\n",
       "      <td>...</td>\n",
       "    </tr>\n",
       "    <tr>\n",
       "      <th>2088638</th>\n",
       "      <td>Colony On Mars</td>\n",
       "      <td>2018.0</td>\n",
       "      <td>1.99</td>\n",
       "      <td>773640.0</td>\n",
       "      <td>Nikita \"Ghost_RUS\"</td>\n",
       "      <td>Casual</td>\n",
       "    </tr>\n",
       "    <tr>\n",
       "      <th>2088670</th>\n",
       "      <td>LOGistICAL: South Africa</td>\n",
       "      <td>2018.0</td>\n",
       "      <td>4.99</td>\n",
       "      <td>733530.0</td>\n",
       "      <td>Sacada</td>\n",
       "      <td>Casual</td>\n",
       "    </tr>\n",
       "    <tr>\n",
       "      <th>2088715</th>\n",
       "      <td>Russian Roads</td>\n",
       "      <td>2018.0</td>\n",
       "      <td>1.99</td>\n",
       "      <td>610660.0</td>\n",
       "      <td>Laush Dmitriy Sergeevich</td>\n",
       "      <td>Indie</td>\n",
       "    </tr>\n",
       "    <tr>\n",
       "      <th>2088742</th>\n",
       "      <td>EXIT 2 - Directions</td>\n",
       "      <td>2017.0</td>\n",
       "      <td>4.99</td>\n",
       "      <td>658870.0</td>\n",
       "      <td>xropi,stev3ns</td>\n",
       "      <td>Casual</td>\n",
       "    </tr>\n",
       "    <tr>\n",
       "      <th>2088778</th>\n",
       "      <td>Maze Run VR</td>\n",
       "      <td>NaN</td>\n",
       "      <td>4.99</td>\n",
       "      <td>681550.0</td>\n",
       "      <td>sin datos</td>\n",
       "      <td>Early Access</td>\n",
       "    </tr>\n",
       "  </tbody>\n",
       "</table>\n",
       "<p>32095 rows × 6 columns</p>\n",
       "</div>"
      ],
      "text/plain": [
       "                         app_name  release_date         price        id  \\\n",
       "0             Lost Summoner Kitty        2018.0          4.99  761140.0   \n",
       "25                      Ironbound        2018.0  Free To Play  643980.0   \n",
       "557       Real Pool 3D - Poolians        2017.0  Free to Play  670290.0   \n",
       "707                       弹炸人2222        2017.0          0.99  767400.0   \n",
       "716                 Log Challenge           NaN          2.99  773570.0   \n",
       "...                           ...           ...           ...       ...   \n",
       "2088638            Colony On Mars        2018.0          1.99  773640.0   \n",
       "2088670  LOGistICAL: South Africa        2018.0          4.99  733530.0   \n",
       "2088715             Russian Roads        2018.0          1.99  610660.0   \n",
       "2088742       EXIT 2 - Directions        2017.0          4.99  658870.0   \n",
       "2088778               Maze Run VR           NaN          4.99  681550.0   \n",
       "\n",
       "                        developer         genre  \n",
       "0                       Kotoshiro        Action  \n",
       "25               Secret Level SRL  Free to Play  \n",
       "557                  Poolians.com        Casual  \n",
       "707                          彼岸领域        Action  \n",
       "716                     sin datos        Action  \n",
       "...                           ...           ...  \n",
       "2088638        Nikita \"Ghost_RUS\"        Casual  \n",
       "2088670                    Sacada        Casual  \n",
       "2088715  Laush Dmitriy Sergeevich         Indie  \n",
       "2088742             xropi,stev3ns        Casual  \n",
       "2088778                 sin datos  Early Access  \n",
       "\n",
       "[32095 rows x 6 columns]"
      ]
     },
     "execution_count": 33,
     "metadata": {},
     "output_type": "execute_result"
    }
   ],
   "source": [
    "df_precios_juegos = df_steam_games.copy()\n",
    "df_precios_juegos = df_precios_juegos.drop_duplicates(subset=\"app_name\")\n",
    "df_precios_juegos"
   ]
  },
  {
   "cell_type": "code",
   "execution_count": 34,
   "metadata": {},
   "outputs": [
    {
     "data": {
      "text/plain": [
       "array(['4.99', 'Free To Play', 'Free to Play', '0.99', '2.99', '3.99',\n",
       "       '9.99', '18.99', '29.99', nan, 'Free', '10.99', '1.59', '14.99',\n",
       "       '1.99', '59.99', '8.99', '6.99', '7.99', '39.99', '19.99', '7.49',\n",
       "       '12.99', '5.99', '2.49', '15.99', '1.25', '24.99', '17.99',\n",
       "       '61.99', '3.49', '11.99', '13.99', 'Free Demo', 'Play for Free!',\n",
       "       '34.99', '74.76', '1.49', '32.99', '99.99', '14.95', '69.99',\n",
       "       '16.99', '79.99', '49.99', '5.0', '44.99', '13.98', '29.96',\n",
       "       '119.99', '109.99', '149.99', '771.71', 'Install Now', '21.99',\n",
       "       '89.99', 'Play WARMACHINE: Tactics Demo', '0.98', '139.92', '4.29',\n",
       "       '64.99', 'Free Mod', '54.99', '74.99', 'Install Theme', '0.89',\n",
       "       'Third-party', '0.5', 'Play Now', '299.99', '1.29', '3.0', '15.0',\n",
       "       '5.49', '23.99', '49.0', '20.99', '10.93', '1.39',\n",
       "       'Free HITMAN™ Holiday Pack', '36.99', '4.49', '2.0', '4.0', '9.0',\n",
       "       '234.99', '1.95', '1.5', '199.0', '189.0', '6.66', '27.99',\n",
       "       '10.49', '129.99', '179.0', '26.99', '399.99', '31.99', '399.0',\n",
       "       '20.0', '40.0', '3.33', '199.99', '22.99', '320.0', '38.85',\n",
       "       '71.7', '59.95', '995.0', '27.49', '3.39', '6.0', '19.95',\n",
       "       '499.99', '16.06', '4.68', '131.4', '44.98', '202.76', '1.0',\n",
       "       '2.3', '0.95', '172.24', '249.99', '2.97', '10.96', '10.0', '30.0',\n",
       "       '2.66', '6.48', '19.29', '11.15', '18.9', '2.89', 'Play the Demo',\n",
       "       '99.0', '87.94', '599.0', '8.98', '9.69', '0.49', '9.98', '9.95',\n",
       "       '7.0', 'Starting at $499.00', 'Starting at $449.00', '12.89',\n",
       "       '6.49', '1.87', '42.99', '41.99', '289.99', 'Free to Try', '23.96',\n",
       "       '5.65', '12.0', '13.37', '189.96', '124.99', 'Free Movie', '19.98',\n",
       "       '160.91', 'Free to Use'], dtype=object)"
      ]
     },
     "execution_count": 34,
     "metadata": {},
     "output_type": "execute_result"
    }
   ],
   "source": [
    "df_precios_juegos[\"price\"].unique()"
   ]
  },
  {
   "cell_type": "code",
   "execution_count": 35,
   "metadata": {},
   "outputs": [
    {
     "data": {
      "text/plain": [
       "array(['4.99', 'Free To Play', 'Free to Play', '0.99', '2.99', '3.99',\n",
       "       '9.99', '18.99', '29.99', nan, 'Free', '10.99', '1.59', '14.99',\n",
       "       '1.99', '59.99', '8.99', '6.99', '7.99', '39.99', '19.99', '7.49',\n",
       "       '12.99', '5.99', '2.49', '15.99', '1.25', '24.99', '17.99',\n",
       "       '61.99', '3.49', '11.99', '13.99', 'Free Demo', 'Play for Free!',\n",
       "       '34.99', '74.76', '1.49', '32.99', '99.99', '14.95', '69.99',\n",
       "       '16.99', '79.99', '49.99', '5.0', '44.99', '13.98', '29.96',\n",
       "       '119.99', '109.99', '149.99', '771.71', 'Install Now', '21.99',\n",
       "       '89.99', 'Play WARMACHINE: Tactics Demo', '0.98', '139.92', '4.29',\n",
       "       '64.99', 'Free Mod', '54.99', '74.99', 'Install Theme', '0.89',\n",
       "       'Third-party', '0.5', 'Play Now', '299.99', '1.29', '3.0', '15.0',\n",
       "       '5.49', '23.99', '49.0', '20.99', '10.93', '1.39',\n",
       "       'Free HITMAN™ Holiday Pack', '36.99', '4.49', '2.0', '4.0', '9.0',\n",
       "       '234.99', '1.95', '1.5', '199.0', '189.0', '6.66', '27.99',\n",
       "       '10.49', '129.99', '179.0', '26.99', '399.99', '31.99', '399.0',\n",
       "       '20.0', '40.0', '3.33', '199.99', '22.99', '320.0', '38.85',\n",
       "       '71.7', '59.95', '995.0', '27.49', '3.39', '6.0', '19.95',\n",
       "       '499.99', '16.06', '4.68', '131.4', '44.98', '202.76', '1.0',\n",
       "       '2.3', '0.95', '172.24', '249.99', '2.97', '10.96', '10.0', '30.0',\n",
       "       '2.66', '6.48', '19.29', '11.15', '18.9', '2.89', 'Play the Demo',\n",
       "       '99.0', '87.94', '599.0', '8.98', '9.69', '0.49', '9.98', '9.95',\n",
       "       '7.0', 'Starting at $499.00', 'Starting at $449.00', '12.89',\n",
       "       '6.49', '1.87', '42.99', '41.99', '289.99', 'Free to Try', '23.96',\n",
       "       '5.65', '12.0', '13.37', '189.96', '124.99', 'Free Movie', '19.98',\n",
       "       '160.91', 'Free to Use'], dtype=object)"
      ]
     },
     "execution_count": 35,
     "metadata": {},
     "output_type": "execute_result"
    }
   ],
   "source": [
    "# Crear una lista con los valores de la columna precio\n",
    "lista_precios = df_precios_juegos['price'].unique()\n",
    "lista_precios"
   ]
  },
  {
   "cell_type": "code",
   "execution_count": 36,
   "metadata": {},
   "outputs": [],
   "source": [
    "# Convertir los precios a string\n",
    "lista_precios = lista_precios.astype(str)"
   ]
  },
  {
   "cell_type": "code",
   "execution_count": 37,
   "metadata": {},
   "outputs": [],
   "source": [
    "# Ordenar la lista\n",
    "lista_precios.sort()"
   ]
  },
  {
   "cell_type": "code",
   "execution_count": 38,
   "metadata": {},
   "outputs": [
    {
     "data": {
      "text/plain": [
       "array(['0.49', '0.5', '0.89', '0.95', '0.98', '0.99', '1.0', '1.25',\n",
       "       '1.29', '1.39', '1.49', '1.5', '1.59', '1.87', '1.95', '1.99',\n",
       "       '10.0', '10.49', '10.93', '10.96', '10.99', '109.99', '11.15',\n",
       "       '11.99', '119.99', '12.0', '12.89', '12.99', '124.99', '129.99',\n",
       "       '13.37', '13.98', '13.99', '131.4', '139.92', '14.95', '14.99',\n",
       "       '149.99', '15.0', '15.99', '16.06', '16.99', '160.91', '17.99',\n",
       "       '172.24', '179.0', '18.9', '18.99', '189.0', '189.96', '19.29',\n",
       "       '19.95', '19.98', '19.99', '199.0', '199.99', '2.0', '2.3', '2.49',\n",
       "       '2.66', '2.89', '2.97', '2.99', '20.0', '20.99', '202.76', '21.99',\n",
       "       '22.99', '23.96', '23.99', '234.99', '24.99', '249.99', '26.99',\n",
       "       '27.49', '27.99', '289.99', '29.96', '29.99', '299.99', '3.0',\n",
       "       '3.33', '3.39', '3.49', '3.99', '30.0', '31.99', '32.99', '320.0',\n",
       "       '34.99', '36.99', '38.85', '39.99', '399.0', '399.99', '4.0',\n",
       "       '4.29', '4.49', '4.68', '4.99', '40.0', '41.99', '42.99', '44.98',\n",
       "       '44.99', '49.0', '49.99', '499.99', '5.0', '5.49', '5.65', '5.99',\n",
       "       '54.99', '59.95', '59.99', '599.0', '6.0', '6.48', '6.49', '6.66',\n",
       "       '6.99', '61.99', '64.99', '69.99', '7.0', '7.49', '7.99', '71.7',\n",
       "       '74.76', '74.99', '771.71', '79.99', '8.98', '8.99', '87.94',\n",
       "       '89.99', '9.0', '9.69', '9.95', '9.98', '9.99', '99.0', '99.99',\n",
       "       '995.0', 'Free', 'Free Demo', 'Free HITMAN™ Holiday Pack',\n",
       "       'Free Mod', 'Free Movie', 'Free To Play', 'Free to Play',\n",
       "       'Free to Try', 'Free to Use', 'Install Now', 'Install Theme',\n",
       "       'Play Now', 'Play WARMACHINE: Tactics Demo', 'Play for Free!',\n",
       "       'Play the Demo', 'Starting at $449.00', 'Starting at $499.00',\n",
       "       'Third-party', 'nan'], dtype='<U29')"
      ]
     },
     "execution_count": 38,
     "metadata": {},
     "output_type": "execute_result"
    }
   ],
   "source": [
    "lista_precios"
   ]
  },
  {
   "cell_type": "code",
   "execution_count": 39,
   "metadata": {},
   "outputs": [
    {
     "data": {
      "text/plain": [
       "(163,)"
      ]
     },
     "execution_count": 39,
     "metadata": {},
     "output_type": "execute_result"
    }
   ],
   "source": [
    "lista_precios.shape"
   ]
  },
  {
   "cell_type": "code",
   "execution_count": 40,
   "metadata": {},
   "outputs": [],
   "source": [
    "# Dejar en la lista los valores que no eran de tipo float\n",
    "lista_precios = lista_precios[144:163]"
   ]
  },
  {
   "cell_type": "code",
   "execution_count": 41,
   "metadata": {},
   "outputs": [
    {
     "data": {
      "text/plain": [
       "array(['Free', 'Free Demo', 'Free HITMAN™ Holiday Pack', 'Free Mod',\n",
       "       'Free Movie', 'Free To Play', 'Free to Play', 'Free to Try',\n",
       "       'Free to Use', 'Install Now', 'Install Theme', 'Play Now',\n",
       "       'Play WARMACHINE: Tactics Demo', 'Play for Free!', 'Play the Demo',\n",
       "       'Starting at $449.00', 'Starting at $499.00', 'Third-party', 'nan'],\n",
       "      dtype='<U29')"
      ]
     },
     "execution_count": 41,
     "metadata": {},
     "output_type": "execute_result"
    }
   ],
   "source": [
    "lista_precios"
   ]
  },
  {
   "cell_type": "code",
   "execution_count": 42,
   "metadata": {},
   "outputs": [],
   "source": [
    "# Cambiar los valores tipo string por \"0\"\n",
    "df_precios_juegos['price'].replace(lista_precios, 0, inplace=True)"
   ]
  },
  {
   "cell_type": "code",
   "execution_count": 43,
   "metadata": {},
   "outputs": [],
   "source": [
    "# Cambiar los valores NaN por \"0\"\n",
    "df_precios_juegos[\"price\"].fillna(0, inplace=True)"
   ]
  },
  {
   "cell_type": "code",
   "execution_count": 44,
   "metadata": {},
   "outputs": [],
   "source": [
    "# Retornar el tipo de dato a float\n",
    "df_precios_juegos['price'] = df_precios_juegos['price'].astype(float)"
   ]
  },
  {
   "cell_type": "code",
   "execution_count": 45,
   "metadata": {},
   "outputs": [
    {
     "name": "stdout",
     "output_type": "stream",
     "text": [
      "<class 'pandas.core.series.Series'>\n",
      "Index: 32095 entries, 0 to 2088778\n",
      "Series name: price\n",
      "Non-Null Count  Dtype  \n",
      "--------------  -----  \n",
      "32095 non-null  float64\n",
      "dtypes: float64(1)\n",
      "memory usage: 501.5 KB\n"
     ]
    }
   ],
   "source": [
    "df_precios_juegos['price'].info()"
   ]
  },
  {
   "cell_type": "code",
   "execution_count": 46,
   "metadata": {},
   "outputs": [
    {
     "data": {
      "text/plain": [
       "count    32095.000000\n",
       "mean         8.484688\n",
       "std         15.666741\n",
       "min          0.000000\n",
       "25%          1.990000\n",
       "50%          4.990000\n",
       "75%          9.990000\n",
       "max        995.000000\n",
       "Name: price, dtype: float64"
      ]
     },
     "execution_count": 46,
     "metadata": {},
     "output_type": "execute_result"
    }
   ],
   "source": [
    "df_precios_juegos['price'].describe()"
   ]
  },
  {
   "cell_type": "code",
   "execution_count": 47,
   "metadata": {},
   "outputs": [
    {
     "name": "stdout",
     "output_type": "stream",
     "text": [
      "app_name           0\n",
      "release_date    2346\n",
      "price              0\n",
      "id                 0\n",
      "developer          0\n",
      "genre              0\n",
      "dtype: int64\n"
     ]
    }
   ],
   "source": [
    "print(df_precios_juegos.isna().sum())"
   ]
  },
  {
   "cell_type": "code",
   "execution_count": 48,
   "metadata": {},
   "outputs": [
    {
     "data": {
      "text/plain": [
       "count    32095.000000\n",
       "mean         8.484688\n",
       "std         15.666741\n",
       "min          0.000000\n",
       "25%          1.990000\n",
       "50%          4.990000\n",
       "75%          9.990000\n",
       "max        995.000000\n",
       "Name: price, dtype: float64"
      ]
     },
     "execution_count": 48,
     "metadata": {},
     "output_type": "execute_result"
    }
   ],
   "source": [
    "# Revisar los parámetros de distribución estadística de la variable precio\n",
    "estadisticas = df_precios_juegos['price'].describe()\n",
    "estadisticas"
   ]
  },
  {
   "cell_type": "code",
   "execution_count": 49,
   "metadata": {},
   "outputs": [],
   "source": [
    "q1 = estadisticas[\"25%\"]\n",
    "q3 = estadisticas[\"75%\"]"
   ]
  },
  {
   "cell_type": "code",
   "execution_count": 52,
   "metadata": {},
   "outputs": [
    {
     "name": "stdout",
     "output_type": "stream",
     "text": [
      "21.990000000000002\n"
     ]
    }
   ],
   "source": [
    "# Identificar el límite de valores outliers\n",
    "limite = q3 + 1.5 * (q3 - q1)\n",
    "print(limite)"
   ]
  },
  {
   "cell_type": "markdown",
   "metadata": {},
   "source": [
    "El análisis me indica que cualquier juego por encima de un precio de 22 dólares es un outlier. Voy a optar por no aplicar este criterio, ya que considero habitual que los juegos cuesten 50 o 60 dólares. Además, al aliminarlos, eliminaría los juegos más reconocidos e importantes. Voy a revisar gráficamente los precios."
   ]
  },
  {
   "cell_type": "code",
   "execution_count": 87,
   "metadata": {},
   "outputs": [
    {
     "data": {
      "image/png": "[encoded data removed]",
      "text/plain": [
       "<Figure size 1000x500 with 1 Axes>"
      ]
     },
     "metadata": {},
     "output_type": "display_data"
    }
   ],
   "source": [
    "# Crear un gráfico de barras\n",
    "plt.figure(figsize=(10, 5))\n",
    "sns.boxplot(x=df_precios_juegos['price'])\n",
    "\n",
    "# Configurar etiquetas y título\n",
    "plt.xlabel('Distribución de Precios')\n",
    "plt.ylabel('Todos los Juegos')\n",
    "plt.title('Distribución de Precios de Juegos en Steam')\n",
    "\n",
    "# Mostrar el gráfico\n",
    "plt.grid()\n",
    "plt.show()"
   ]
  },
  {
   "cell_type": "markdown",
   "metadata": {},
   "source": [
    "Voy a situar un primer punto de corte en 200 dólares"
   ]
  },
  {
   "cell_type": "code",
   "execution_count": 88,
   "metadata": {},
   "outputs": [
    {
     "data": {
      "text/plain": [
       "(32095, 6)"
      ]
     },
     "execution_count": 88,
     "metadata": {},
     "output_type": "execute_result"
    }
   ],
   "source": [
    "df_precios_juegos.shape"
   ]
  },
  {
   "cell_type": "code",
   "execution_count": 89,
   "metadata": {},
   "outputs": [],
   "source": [
    "# Eliminar los juegos con precio mayor a 200 dólares\n",
    "df_precios_juegos = df_precios_juegos[df_precios_juegos['price'] <= 200]"
   ]
  },
  {
   "cell_type": "code",
   "execution_count": 90,
   "metadata": {},
   "outputs": [
    {
     "data": {
      "text/plain": [
       "(32077, 6)"
      ]
     },
     "execution_count": 90,
     "metadata": {},
     "output_type": "execute_result"
    }
   ],
   "source": [
    "df_precios_juegos.shape"
   ]
  },
  {
   "cell_type": "markdown",
   "metadata": {},
   "source": [
    "Se eliminaron solo 18 registros"
   ]
  },
  {
   "cell_type": "code",
   "execution_count": 91,
   "metadata": {},
   "outputs": [
    {
     "data": {
      "image/png": "[encoded data removed]",
      "text/plain": [
       "<Figure size 1000x500 with 1 Axes>"
      ]
     },
     "metadata": {},
     "output_type": "display_data"
    }
   ],
   "source": [
    "# Crear un gráfico de barras\n",
    "plt.figure(figsize=(10, 5))\n",
    "sns.boxplot(x=df_precios_juegos['price'])\n",
    "\n",
    "# Configurar etiquetas y título\n",
    "plt.xlabel('Distribución de Precios')\n",
    "plt.ylabel('Todos los Juegos')\n",
    "plt.title('Distribución de Precios de Juegos en Steam')\n",
    "\n",
    "# Mostrar el gráfico\n",
    "plt.grid()\n",
    "plt.show()"
   ]
  },
  {
   "cell_type": "markdown",
   "metadata": {},
   "source": [
    "Voy a realizar un último recorte a 75 dólares"
   ]
  },
  {
   "cell_type": "code",
   "execution_count": 92,
   "metadata": {},
   "outputs": [],
   "source": [
    "# Eliminar los juegos con precio mayor a 75 dólares\n",
    "df_precios_juegos = df_precios_juegos[df_precios_juegos['price'] <= 75]"
   ]
  },
  {
   "cell_type": "code",
   "execution_count": 93,
   "metadata": {},
   "outputs": [
    {
     "data": {
      "text/plain": [
       "(31939, 6)"
      ]
     },
     "execution_count": 93,
     "metadata": {},
     "output_type": "execute_result"
    }
   ],
   "source": [
    "df_precios_juegos.shape"
   ]
  },
  {
   "cell_type": "markdown",
   "metadata": {},
   "source": [
    "Se eliminaron 138 registros más"
   ]
  },
  {
   "cell_type": "code",
   "execution_count": 94,
   "metadata": {},
   "outputs": [
    {
     "data": {
      "image/png": "[encoded data removed]",
      "text/plain": [
       "<Figure size 1000x500 with 1 Axes>"
      ]
     },
     "metadata": {},
     "output_type": "display_data"
    }
   ],
   "source": [
    "# Crear un gráfico de barras\n",
    "plt.figure(figsize=(10, 5))\n",
    "sns.boxplot(x=df_precios_juegos['price'])\n",
    "\n",
    "# Configurar etiquetas y título\n",
    "plt.xlabel('Distribución de Precios')\n",
    "plt.ylabel('Todos los Juegos')\n",
    "plt.title('Distribución de Precios de Juegos en Steam')\n",
    "\n",
    "# Mostrar el gráfico\n",
    "plt.grid()\n",
    "plt.show()"
   ]
  },
  {
   "cell_type": "markdown",
   "metadata": {},
   "source": [
    "Considero satisfactorio el resultado, no voy a realizar otro recorte."
   ]
  },
  {
   "cell_type": "markdown",
   "metadata": {},
   "source": [
    "Ahora voy a volver a trabajar con el Dataframe original, aplicando las modificaciones recién hechas"
   ]
  },
  {
   "cell_type": "code",
   "execution_count": 129,
   "metadata": {},
   "outputs": [
    {
     "data": {
      "text/plain": [
       "array(['4.99', 'Free To Play', 'Free to Play', '0.99', '2.99', '3.99',\n",
       "       '9.99', '18.99', '29.99', nan, 'Free', '10.99', '1.59', '14.99',\n",
       "       '1.99', '59.99', '8.99', '6.99', '7.99', '39.99', '19.99', '7.49',\n",
       "       '12.99', '5.99', '2.49', '15.99', '1.25', '24.99', '17.99',\n",
       "       '61.99', '3.49', '11.99', '13.99', 'Free Demo', 'Play for Free!',\n",
       "       '34.99', '74.76', '1.49', '32.99', '99.99', '14.95', '69.99',\n",
       "       '16.99', '79.99', '49.99', '5.0', '44.99', '13.98', '29.96',\n",
       "       '119.99', '109.99', '149.99', '771.71', 'Install Now', '21.99',\n",
       "       '89.99', 'Play WARMACHINE: Tactics Demo', '0.98', '139.92', '4.29',\n",
       "       '64.99', 'Free Mod', '54.99', '74.99', 'Install Theme', '0.89',\n",
       "       'Third-party', '0.5', 'Play Now', '299.99', '1.29', '3.0', '15.0',\n",
       "       '5.49', '23.99', '49.0', '20.99', '10.93', '1.39',\n",
       "       'Free HITMAN™ Holiday Pack', '36.99', '4.49', '2.0', '4.0', '9.0',\n",
       "       '234.99', '1.95', '1.5', '199.0', '189.0', '6.66', '27.99',\n",
       "       '10.49', '129.99', '179.0', '26.99', '399.99', '31.99', '399.0',\n",
       "       '20.0', '40.0', '3.33', '199.99', '22.99', '320.0', '38.85',\n",
       "       '71.7', '59.95', '995.0', '27.49', '3.39', '6.0', '19.95',\n",
       "       '499.99', '16.06', '4.68', '131.4', '44.98', '202.76', '1.0',\n",
       "       '2.3', '0.95', '172.24', '249.99', '2.97', '10.96', '10.0', '30.0',\n",
       "       '2.66', '6.48', '19.29', '11.15', '18.9', '2.89', 'Play the Demo',\n",
       "       '99.0', '87.94', '599.0', '8.98', '9.69', '0.49', '9.98', '9.95',\n",
       "       '7.0', 'Starting at $499.00', 'Starting at $449.00', '12.89',\n",
       "       '6.49', '1.87', '42.99', '41.99', '289.99', 'Free to Try', '23.96',\n",
       "       '5.65', '12.0', '13.37', '189.96', '124.99', 'Free Movie', '19.98',\n",
       "       '160.91', 'Free to Use'], dtype=object)"
      ]
     },
     "execution_count": 129,
     "metadata": {},
     "output_type": "execute_result"
    }
   ],
   "source": [
    "# Crear una lista con los valores de la columna precio\n",
    "lista_precios = df_steam_games['price'].unique()\n",
    "lista_precios"
   ]
  },
  {
   "cell_type": "code",
   "execution_count": 130,
   "metadata": {},
   "outputs": [],
   "source": [
    "# Convertir los precios a string\n",
    "lista_precios = lista_precios.astype(str)"
   ]
  },
  {
   "cell_type": "code",
   "execution_count": 131,
   "metadata": {},
   "outputs": [],
   "source": [
    "# Ordenar la lista\n",
    "lista_precios.sort()"
   ]
  },
  {
   "cell_type": "code",
   "execution_count": 132,
   "metadata": {},
   "outputs": [
    {
     "data": {
      "text/plain": [
       "array(['0.49', '0.5', '0.89', '0.95', '0.98', '0.99', '1.0', '1.25',\n",
       "       '1.29', '1.39', '1.49', '1.5', '1.59', '1.87', '1.95', '1.99',\n",
       "       '10.0', '10.49', '10.93', '10.96', '10.99', '109.99', '11.15',\n",
       "       '11.99', '119.99', '12.0', '12.89', '12.99', '124.99', '129.99',\n",
       "       '13.37', '13.98', '13.99', '131.4', '139.92', '14.95', '14.99',\n",
       "       '149.99', '15.0', '15.99', '16.06', '16.99', '160.91', '17.99',\n",
       "       '172.24', '179.0', '18.9', '18.99', '189.0', '189.96', '19.29',\n",
       "       '19.95', '19.98', '19.99', '199.0', '199.99', '2.0', '2.3', '2.49',\n",
       "       '2.66', '2.89', '2.97', '2.99', '20.0', '20.99', '202.76', '21.99',\n",
       "       '22.99', '23.96', '23.99', '234.99', '24.99', '249.99', '26.99',\n",
       "       '27.49', '27.99', '289.99', '29.96', '29.99', '299.99', '3.0',\n",
       "       '3.33', '3.39', '3.49', '3.99', '30.0', '31.99', '32.99', '320.0',\n",
       "       '34.99', '36.99', '38.85', '39.99', '399.0', '399.99', '4.0',\n",
       "       '4.29', '4.49', '4.68', '4.99', '40.0', '41.99', '42.99', '44.98',\n",
       "       '44.99', '49.0', '49.99', '499.99', '5.0', '5.49', '5.65', '5.99',\n",
       "       '54.99', '59.95', '59.99', '599.0', '6.0', '6.48', '6.49', '6.66',\n",
       "       '6.99', '61.99', '64.99', '69.99', '7.0', '7.49', '7.99', '71.7',\n",
       "       '74.76', '74.99', '771.71', '79.99', '8.98', '8.99', '87.94',\n",
       "       '89.99', '9.0', '9.69', '9.95', '9.98', '9.99', '99.0', '99.99',\n",
       "       '995.0', 'Free', 'Free Demo', 'Free HITMAN™ Holiday Pack',\n",
       "       'Free Mod', 'Free Movie', 'Free To Play', 'Free to Play',\n",
       "       'Free to Try', 'Free to Use', 'Install Now', 'Install Theme',\n",
       "       'Play Now', 'Play WARMACHINE: Tactics Demo', 'Play for Free!',\n",
       "       'Play the Demo', 'Starting at $449.00', 'Starting at $499.00',\n",
       "       'Third-party', 'nan'], dtype='<U29')"
      ]
     },
     "execution_count": 132,
     "metadata": {},
     "output_type": "execute_result"
    }
   ],
   "source": [
    "lista_precios"
   ]
  },
  {
   "cell_type": "code",
   "execution_count": 133,
   "metadata": {},
   "outputs": [
    {
     "data": {
      "text/plain": [
       "(163,)"
      ]
     },
     "execution_count": 133,
     "metadata": {},
     "output_type": "execute_result"
    }
   ],
   "source": [
    "lista_precios.shape"
   ]
  },
  {
   "cell_type": "code",
   "execution_count": 134,
   "metadata": {},
   "outputs": [],
   "source": [
    "# Dejar en la lista los valores que no eran de tipo float\n",
    "lista_precios = lista_precios[144:163]"
   ]
  },
  {
   "cell_type": "code",
   "execution_count": 135,
   "metadata": {},
   "outputs": [
    {
     "data": {
      "text/plain": [
       "array(['Free', 'Free Demo', 'Free HITMAN™ Holiday Pack', 'Free Mod',\n",
       "       'Free Movie', 'Free To Play', 'Free to Play', 'Free to Try',\n",
       "       'Free to Use', 'Install Now', 'Install Theme', 'Play Now',\n",
       "       'Play WARMACHINE: Tactics Demo', 'Play for Free!', 'Play the Demo',\n",
       "       'Starting at $449.00', 'Starting at $499.00', 'Third-party', 'nan'],\n",
       "      dtype='<U29')"
      ]
     },
     "execution_count": 135,
     "metadata": {},
     "output_type": "execute_result"
    }
   ],
   "source": [
    "lista_precios"
   ]
  },
  {
   "cell_type": "code",
   "execution_count": 136,
   "metadata": {},
   "outputs": [],
   "source": [
    "# Cambiar los valores tipo string por \"0\"\n",
    "df_steam_games['price'].replace(lista_precios, 0, inplace=True)"
   ]
  },
  {
   "cell_type": "code",
   "execution_count": 137,
   "metadata": {},
   "outputs": [],
   "source": [
    "# Cambiar los valores NaN por \"0\"\n",
    "df_steam_games[\"price\"].fillna(0, inplace=True)"
   ]
  },
  {
   "cell_type": "code",
   "execution_count": 138,
   "metadata": {},
   "outputs": [],
   "source": [
    "# Retornar el tipo de dato a float\n",
    "df_steam_games['price'] = df_steam_games['price'].astype(float)"
   ]
  },
  {
   "cell_type": "code",
   "execution_count": 139,
   "metadata": {},
   "outputs": [
    {
     "name": "stdout",
     "output_type": "stream",
     "text": [
      "<class 'pandas.core.series.Series'>\n",
      "Index: 80839 entries, 0 to 2088818\n",
      "Series name: price\n",
      "Non-Null Count  Dtype  \n",
      "--------------  -----  \n",
      "80839 non-null  float64\n",
      "dtypes: float64(1)\n",
      "memory usage: 1.2 MB\n"
     ]
    }
   ],
   "source": [
    "df_steam_games['price'].info()"
   ]
  },
  {
   "cell_type": "code",
   "execution_count": 140,
   "metadata": {},
   "outputs": [],
   "source": [
    "# Eliminar los juegos con precio mayor a 75 dólares\n",
    "df_steam_games = df_steam_games[df_steam_games['price'] <= 75]"
   ]
  },
  {
   "cell_type": "markdown",
   "metadata": {},
   "source": [
    "### Por último voy a analizar si hay alguna relación visible entre precio y género"
   ]
  },
  {
   "cell_type": "code",
   "execution_count": 151,
   "metadata": {},
   "outputs": [
    {
     "data": {
      "text/plain": [
       "23"
      ]
     },
     "execution_count": 151,
     "metadata": {},
     "output_type": "execute_result"
    }
   ],
   "source": [
    "# Revisar cuantos géneros diferentes tengo\n",
    "df_steam_games['genre'].nunique()"
   ]
  },
  {
   "cell_type": "code",
   "execution_count": 152,
   "metadata": {},
   "outputs": [
    {
     "data": {
      "text/plain": [
       "genre\n",
       "Indie                        17119\n",
       "Action                       12399\n",
       "Casual                        9147\n",
       "Adventure                     8845\n",
       "Simulation                    7366\n",
       "Strategy                      7134\n",
       "RPG                           5577\n",
       "sin especificar               3047\n",
       "Free to Play                  2165\n",
       "Early Access                  1945\n",
       "Sports                        1543\n",
       "Racing                        1188\n",
       "Massively Multiplayer         1107\n",
       "Design &amp; Illustration      427\n",
       "Utilities                      390\n",
       "Web Publishing                 257\n",
       "Education                      172\n",
       "Animation &amp; Modeling       149\n",
       "Video Production               131\n",
       "Software Training              105\n",
       "Audio Production                97\n",
       "Photo Editing                   75\n",
       "Accounting                       7\n",
       "Name: count, dtype: int64"
      ]
     },
     "execution_count": 152,
     "metadata": {},
     "output_type": "execute_result"
    }
   ],
   "source": [
    "# Revisar cuantos géneros Top\n",
    "df_steam_games['genre'].value_counts()"
   ]
  },
  {
   "cell_type": "code",
   "execution_count": 161,
   "metadata": {},
   "outputs": [
    {
     "data": {
      "text/plain": [
       "genre\n",
       "Indie                        17119\n",
       "Action                       12399\n",
       "Casual                        9147\n",
       "Adventure                     8845\n",
       "Simulation                    7366\n",
       "Strategy                      7134\n",
       "RPG                           5577\n",
       "sin especificar               3047\n",
       "Free to Play                  2165\n",
       "Early Access                  1945\n",
       "Sports                        1543\n",
       "Racing                        1188\n",
       "Massively Multiplayer         1107\n",
       "Design &amp; Illustration      427\n",
       "Utilities                      390\n",
       "Web Publishing                 257\n",
       "Education                      172\n",
       "Animation &amp; Modeling       149\n",
       "Video Production               131\n",
       "Software Training              105\n",
       "Audio Production                97\n",
       "Photo Editing                   75\n",
       "Accounting                       7\n",
       "Name: count, dtype: int64"
      ]
     },
     "execution_count": 161,
     "metadata": {},
     "output_type": "execute_result"
    }
   ],
   "source": [
    "# Extraer los géneros Top para analizarlos\n",
    "generos_top = df_steam_games['genre'].value_counts()\n",
    "generos_top"
   ]
  },
  {
   "cell_type": "code",
   "execution_count": 162,
   "metadata": {},
   "outputs": [
    {
     "data": {
      "text/plain": [
       "genre\n",
       "Indie         17119\n",
       "Action        12399\n",
       "Casual         9147\n",
       "Adventure      8845\n",
       "Simulation     7366\n",
       "Strategy       7134\n",
       "RPG            5577\n",
       "Name: count, dtype: int64"
      ]
     },
     "execution_count": 162,
     "metadata": {},
     "output_type": "execute_result"
    }
   ],
   "source": [
    "# Dejar en la lista el top 8\n",
    "generos_top = generos_top[0:7]\n",
    "generos_top"
   ]
  },
  {
   "cell_type": "code",
   "execution_count": 163,
   "metadata": {},
   "outputs": [
    {
     "data": {
      "text/plain": [
       "Index(['Indie', 'Action', 'Casual', 'Adventure', 'Simulation', 'Strategy',\n",
       "       'RPG'],\n",
       "      dtype='object', name='genre')"
      ]
     },
     "execution_count": 163,
     "metadata": {},
     "output_type": "execute_result"
    }
   ],
   "source": [
    "# Generar la lista de géneros Top\n",
    "generos_top = generos_top.keys()\n",
    "generos_top"
   ]
  },
  {
   "cell_type": "code",
   "execution_count": 164,
   "metadata": {},
   "outputs": [
    {
     "data": {
      "text/plain": [
       "(80392, 6)"
      ]
     },
     "execution_count": 164,
     "metadata": {},
     "output_type": "execute_result"
    }
   ],
   "source": [
    "df_steam_games.shape"
   ]
  },
  {
   "cell_type": "code",
   "execution_count": 165,
   "metadata": {},
   "outputs": [
    {
     "data": {
      "text/html": [
       "<div>\n",
       "<style scoped>\n",
       "    .dataframe tbody tr th:only-of-type {\n",
       "        vertical-align: middle;\n",
       "    }\n",
       "\n",
       "    .dataframe tbody tr th {\n",
       "        vertical-align: top;\n",
       "    }\n",
       "\n",
       "    .dataframe thead th {\n",
       "        text-align: right;\n",
       "    }\n",
       "</style>\n",
       "<table border=\"1\" class=\"dataframe\">\n",
       "  <thead>\n",
       "    <tr style=\"text-align: right;\">\n",
       "      <th></th>\n",
       "      <th>app_name</th>\n",
       "      <th>release_date</th>\n",
       "      <th>price</th>\n",
       "      <th>id</th>\n",
       "      <th>developer</th>\n",
       "      <th>genre</th>\n",
       "    </tr>\n",
       "  </thead>\n",
       "  <tbody>\n",
       "    <tr>\n",
       "      <th>0</th>\n",
       "      <td>Lost Summoner Kitty</td>\n",
       "      <td>2018.0</td>\n",
       "      <td>4.99</td>\n",
       "      <td>761140.0</td>\n",
       "      <td>Kotoshiro</td>\n",
       "      <td>Action</td>\n",
       "    </tr>\n",
       "    <tr>\n",
       "      <th>5</th>\n",
       "      <td>Lost Summoner Kitty</td>\n",
       "      <td>2018.0</td>\n",
       "      <td>4.99</td>\n",
       "      <td>761140.0</td>\n",
       "      <td>Kotoshiro</td>\n",
       "      <td>Casual</td>\n",
       "    </tr>\n",
       "    <tr>\n",
       "      <th>10</th>\n",
       "      <td>Lost Summoner Kitty</td>\n",
       "      <td>2018.0</td>\n",
       "      <td>4.99</td>\n",
       "      <td>761140.0</td>\n",
       "      <td>Kotoshiro</td>\n",
       "      <td>Indie</td>\n",
       "    </tr>\n",
       "    <tr>\n",
       "      <th>15</th>\n",
       "      <td>Lost Summoner Kitty</td>\n",
       "      <td>2018.0</td>\n",
       "      <td>4.99</td>\n",
       "      <td>761140.0</td>\n",
       "      <td>Kotoshiro</td>\n",
       "      <td>Simulation</td>\n",
       "    </tr>\n",
       "    <tr>\n",
       "      <th>20</th>\n",
       "      <td>Lost Summoner Kitty</td>\n",
       "      <td>2018.0</td>\n",
       "      <td>4.99</td>\n",
       "      <td>761140.0</td>\n",
       "      <td>Kotoshiro</td>\n",
       "      <td>Strategy</td>\n",
       "    </tr>\n",
       "    <tr>\n",
       "      <th>...</th>\n",
       "      <td>...</td>\n",
       "      <td>...</td>\n",
       "      <td>...</td>\n",
       "      <td>...</td>\n",
       "      <td>...</td>\n",
       "      <td>...</td>\n",
       "    </tr>\n",
       "    <tr>\n",
       "      <th>2088760</th>\n",
       "      <td>EXIT 2 - Directions</td>\n",
       "      <td>2017.0</td>\n",
       "      <td>4.99</td>\n",
       "      <td>658870.0</td>\n",
       "      <td>xropi,stev3ns</td>\n",
       "      <td>Indie</td>\n",
       "    </tr>\n",
       "    <tr>\n",
       "      <th>2088786</th>\n",
       "      <td>Maze Run VR</td>\n",
       "      <td>NaN</td>\n",
       "      <td>4.99</td>\n",
       "      <td>681550.0</td>\n",
       "      <td>sin datos</td>\n",
       "      <td>Adventure</td>\n",
       "    </tr>\n",
       "    <tr>\n",
       "      <th>2088794</th>\n",
       "      <td>Maze Run VR</td>\n",
       "      <td>NaN</td>\n",
       "      <td>4.99</td>\n",
       "      <td>681550.0</td>\n",
       "      <td>sin datos</td>\n",
       "      <td>Indie</td>\n",
       "    </tr>\n",
       "    <tr>\n",
       "      <th>2088802</th>\n",
       "      <td>Maze Run VR</td>\n",
       "      <td>NaN</td>\n",
       "      <td>4.99</td>\n",
       "      <td>681550.0</td>\n",
       "      <td>sin datos</td>\n",
       "      <td>Action</td>\n",
       "    </tr>\n",
       "    <tr>\n",
       "      <th>2088810</th>\n",
       "      <td>Maze Run VR</td>\n",
       "      <td>NaN</td>\n",
       "      <td>4.99</td>\n",
       "      <td>681550.0</td>\n",
       "      <td>sin datos</td>\n",
       "      <td>Simulation</td>\n",
       "    </tr>\n",
       "  </tbody>\n",
       "</table>\n",
       "<p>67587 rows × 6 columns</p>\n",
       "</div>"
      ],
      "text/plain": [
       "                    app_name  release_date  price        id      developer  \\\n",
       "0        Lost Summoner Kitty        2018.0   4.99  761140.0      Kotoshiro   \n",
       "5        Lost Summoner Kitty        2018.0   4.99  761140.0      Kotoshiro   \n",
       "10       Lost Summoner Kitty        2018.0   4.99  761140.0      Kotoshiro   \n",
       "15       Lost Summoner Kitty        2018.0   4.99  761140.0      Kotoshiro   \n",
       "20       Lost Summoner Kitty        2018.0   4.99  761140.0      Kotoshiro   \n",
       "...                      ...           ...    ...       ...            ...   \n",
       "2088760  EXIT 2 - Directions        2017.0   4.99  658870.0  xropi,stev3ns   \n",
       "2088786          Maze Run VR           NaN   4.99  681550.0      sin datos   \n",
       "2088794          Maze Run VR           NaN   4.99  681550.0      sin datos   \n",
       "2088802          Maze Run VR           NaN   4.99  681550.0      sin datos   \n",
       "2088810          Maze Run VR           NaN   4.99  681550.0      sin datos   \n",
       "\n",
       "              genre  \n",
       "0            Action  \n",
       "5            Casual  \n",
       "10            Indie  \n",
       "15       Simulation  \n",
       "20         Strategy  \n",
       "...             ...  \n",
       "2088760       Indie  \n",
       "2088786   Adventure  \n",
       "2088794       Indie  \n",
       "2088802      Action  \n",
       "2088810  Simulation  \n",
       "\n",
       "[67587 rows x 6 columns]"
      ]
     },
     "execution_count": 165,
     "metadata": {},
     "output_type": "execute_result"
    }
   ],
   "source": [
    "df_steam_games2 = df_steam_games[df_steam_games[\"genre\"].isin(generos_top)]\n",
    "df_steam_games2"
   ]
  },
  {
   "cell_type": "markdown",
   "metadata": {},
   "source": [
    "Hay 12805 registros menos, por lo que los géneros Top 8 representan el 85% de los registros"
   ]
  },
  {
   "cell_type": "code",
   "execution_count": 166,
   "metadata": {},
   "outputs": [
    {
     "data": {
      "image/png": "[encoded data removed]",
      "text/plain": [
       "<Figure size 1000x500 with 1 Axes>"
      ]
     },
     "metadata": {},
     "output_type": "display_data"
    }
   ],
   "source": [
    "# Crear un gráfico de distribución para precios menores a 20 dólares\n",
    "plt.figure(figsize=(10, 5))\n",
    "sns.violinplot(x=df_steam_games2['genre'], y=df_steam_games2['price'][df_steam_games2[\"price\"] < 20])\n",
    "plt.show()"
   ]
  },
  {
   "cell_type": "markdown",
   "metadata": {},
   "source": [
    "El análisis realizado muestra que no existe relación entre género y precio (lógicamente queda exceptuado de esta conclusión el género \"Free to Play\", ya que se trata de juegos gratuitos)."
   ]
  },
  {
   "cell_type": "code",
   "execution_count": 167,
   "metadata": {},
   "outputs": [],
   "source": [
    "# Exportar el Dataframe a .csv eliminando el índice\n",
    "df_steam_games2.to_csv(\"data/steam_games_3.csv\", index=False)"
   ]
  },
  {
   "cell_type": "code",
   "execution_count": 2,
   "metadata": {},
   "outputs": [
    {
     "data": {
      "text/html": [
       "<div>\n",
       "<style scoped>\n",
       "    .dataframe tbody tr th:only-of-type {\n",
       "        vertical-align: middle;\n",
       "    }\n",
       "\n",
       "    .dataframe tbody tr th {\n",
       "        vertical-align: top;\n",
       "    }\n",
       "\n",
       "    .dataframe thead th {\n",
       "        text-align: right;\n",
       "    }\n",
       "</style>\n",
       "<table border=\"1\" class=\"dataframe\">\n",
       "  <thead>\n",
       "    <tr style=\"text-align: right;\">\n",
       "      <th></th>\n",
       "      <th>app_name</th>\n",
       "      <th>release_date</th>\n",
       "      <th>price</th>\n",
       "      <th>id</th>\n",
       "      <th>developer</th>\n",
       "      <th>genre</th>\n",
       "    </tr>\n",
       "  </thead>\n",
       "  <tbody>\n",
       "    <tr>\n",
       "      <th>0</th>\n",
       "      <td>Lost Summoner Kitty</td>\n",
       "      <td>2018.0</td>\n",
       "      <td>4.99</td>\n",
       "      <td>761140.0</td>\n",
       "      <td>Kotoshiro</td>\n",
       "      <td>Action</td>\n",
       "    </tr>\n",
       "    <tr>\n",
       "      <th>1</th>\n",
       "      <td>Lost Summoner Kitty</td>\n",
       "      <td>2018.0</td>\n",
       "      <td>4.99</td>\n",
       "      <td>761140.0</td>\n",
       "      <td>Kotoshiro</td>\n",
       "      <td>Casual</td>\n",
       "    </tr>\n",
       "    <tr>\n",
       "      <th>2</th>\n",
       "      <td>Lost Summoner Kitty</td>\n",
       "      <td>2018.0</td>\n",
       "      <td>4.99</td>\n",
       "      <td>761140.0</td>\n",
       "      <td>Kotoshiro</td>\n",
       "      <td>Indie</td>\n",
       "    </tr>\n",
       "    <tr>\n",
       "      <th>3</th>\n",
       "      <td>Lost Summoner Kitty</td>\n",
       "      <td>2018.0</td>\n",
       "      <td>4.99</td>\n",
       "      <td>761140.0</td>\n",
       "      <td>Kotoshiro</td>\n",
       "      <td>Simulation</td>\n",
       "    </tr>\n",
       "    <tr>\n",
       "      <th>4</th>\n",
       "      <td>Lost Summoner Kitty</td>\n",
       "      <td>2018.0</td>\n",
       "      <td>4.99</td>\n",
       "      <td>761140.0</td>\n",
       "      <td>Kotoshiro</td>\n",
       "      <td>Strategy</td>\n",
       "    </tr>\n",
       "    <tr>\n",
       "      <th>...</th>\n",
       "      <td>...</td>\n",
       "      <td>...</td>\n",
       "      <td>...</td>\n",
       "      <td>...</td>\n",
       "      <td>...</td>\n",
       "      <td>...</td>\n",
       "    </tr>\n",
       "    <tr>\n",
       "      <th>67582</th>\n",
       "      <td>EXIT 2 - Directions</td>\n",
       "      <td>2017.0</td>\n",
       "      <td>4.99</td>\n",
       "      <td>658870.0</td>\n",
       "      <td>xropi,stev3ns</td>\n",
       "      <td>Indie</td>\n",
       "    </tr>\n",
       "    <tr>\n",
       "      <th>67583</th>\n",
       "      <td>Maze Run VR</td>\n",
       "      <td>NaN</td>\n",
       "      <td>4.99</td>\n",
       "      <td>681550.0</td>\n",
       "      <td>sin datos</td>\n",
       "      <td>Adventure</td>\n",
       "    </tr>\n",
       "    <tr>\n",
       "      <th>67584</th>\n",
       "      <td>Maze Run VR</td>\n",
       "      <td>NaN</td>\n",
       "      <td>4.99</td>\n",
       "      <td>681550.0</td>\n",
       "      <td>sin datos</td>\n",
       "      <td>Indie</td>\n",
       "    </tr>\n",
       "    <tr>\n",
       "      <th>67585</th>\n",
       "      <td>Maze Run VR</td>\n",
       "      <td>NaN</td>\n",
       "      <td>4.99</td>\n",
       "      <td>681550.0</td>\n",
       "      <td>sin datos</td>\n",
       "      <td>Action</td>\n",
       "    </tr>\n",
       "    <tr>\n",
       "      <th>67586</th>\n",
       "      <td>Maze Run VR</td>\n",
       "      <td>NaN</td>\n",
       "      <td>4.99</td>\n",
       "      <td>681550.0</td>\n",
       "      <td>sin datos</td>\n",
       "      <td>Simulation</td>\n",
       "    </tr>\n",
       "  </tbody>\n",
       "</table>\n",
       "<p>67587 rows × 6 columns</p>\n",
       "</div>"
      ],
      "text/plain": [
       "                  app_name  release_date  price        id      developer  \\\n",
       "0      Lost Summoner Kitty        2018.0   4.99  761140.0      Kotoshiro   \n",
       "1      Lost Summoner Kitty        2018.0   4.99  761140.0      Kotoshiro   \n",
       "2      Lost Summoner Kitty        2018.0   4.99  761140.0      Kotoshiro   \n",
       "3      Lost Summoner Kitty        2018.0   4.99  761140.0      Kotoshiro   \n",
       "4      Lost Summoner Kitty        2018.0   4.99  761140.0      Kotoshiro   \n",
       "...                    ...           ...    ...       ...            ...   \n",
       "67582  EXIT 2 - Directions        2017.0   4.99  658870.0  xropi,stev3ns   \n",
       "67583          Maze Run VR           NaN   4.99  681550.0      sin datos   \n",
       "67584          Maze Run VR           NaN   4.99  681550.0      sin datos   \n",
       "67585          Maze Run VR           NaN   4.99  681550.0      sin datos   \n",
       "67586          Maze Run VR           NaN   4.99  681550.0      sin datos   \n",
       "\n",
       "            genre  \n",
       "0          Action  \n",
       "1          Casual  \n",
       "2           Indie  \n",
       "3      Simulation  \n",
       "4        Strategy  \n",
       "...           ...  \n",
       "67582       Indie  \n",
       "67583   Adventure  \n",
       "67584       Indie  \n",
       "67585      Action  \n",
       "67586  Simulation  \n",
       "\n",
       "[67587 rows x 6 columns]"
      ]
     },
     "execution_count": 2,
     "metadata": {},
     "output_type": "execute_result"
    }
   ],
   "source": [
    "# Verificar el .csv\n",
    "df = pd.read_csv(\"data/steam_games_3.csv\")\n",
    "df"
   ]
  },
  {
   "cell_type": "markdown",
   "metadata": {},
   "source": [
    "### Queda como opción eliminar los duplicados de la columna app_name y los nulos de la fecha de lanzamiento, con lo que se reduciría el tamaño del dataset un 50%."
   ]
  }
 ],
 "metadata": {
  "kernelspec": {
   "display_name": "Python 3",
   "language": "python",
   "name": "python3"
  },
  "language_info": {
   "codemirror_mode": {
    "name": "ipython",
    "version": 3
   },
   "file_extension": ".py",
   "mimetype": "text/x-python",
   "name": "python",
   "nbconvert_exporter": "python",
   "pygments_lexer": "ipython3",
   "version": "3.11.5"
  }
 },
 "nbformat": 4,
 "nbformat_minor": 2
}
