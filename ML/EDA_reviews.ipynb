{
 "cells": [
  {
   "cell_type": "code",
   "execution_count": 2,
   "metadata": {},
   "outputs": [],
   "source": [
    "# Importar las librerías a utilizar\n",
    "import pandas as pd\n",
    "import matplotlib.pyplot as plt\n",
    "import seaborn as sns"
   ]
  },
  {
   "cell_type": "markdown",
   "metadata": {},
   "source": [
    "### PRE-PROCESAMIENTO"
   ]
  },
  {
   "cell_type": "code",
   "execution_count": 3,
   "metadata": {},
   "outputs": [
    {
     "data": {
      "text/html": [
       "<div>\n",
       "<style scoped>\n",
       "    .dataframe tbody tr th:only-of-type {\n",
       "        vertical-align: middle;\n",
       "    }\n",
       "\n",
       "    .dataframe tbody tr th {\n",
       "        vertical-align: top;\n",
       "    }\n",
       "\n",
       "    .dataframe thead th {\n",
       "        text-align: right;\n",
       "    }\n",
       "</style>\n",
       "<table border=\"1\" class=\"dataframe\">\n",
       "  <thead>\n",
       "    <tr style=\"text-align: right;\">\n",
       "      <th></th>\n",
       "      <th>user_id</th>\n",
       "      <th>posted</th>\n",
       "      <th>item_id</th>\n",
       "      <th>recommend</th>\n",
       "      <th>polarity</th>\n",
       "      <th>sentiment</th>\n",
       "    </tr>\n",
       "  </thead>\n",
       "  <tbody>\n",
       "    <tr>\n",
       "      <th>0</th>\n",
       "      <td>76561197970982479</td>\n",
       "      <td>2011.0</td>\n",
       "      <td>1250.0</td>\n",
       "      <td>True</td>\n",
       "      <td>0.174444</td>\n",
       "      <td>2</td>\n",
       "    </tr>\n",
       "    <tr>\n",
       "      <th>1</th>\n",
       "      <td>76561197970982479</td>\n",
       "      <td>2011.0</td>\n",
       "      <td>22200.0</td>\n",
       "      <td>True</td>\n",
       "      <td>0.337500</td>\n",
       "      <td>2</td>\n",
       "    </tr>\n",
       "    <tr>\n",
       "      <th>2</th>\n",
       "      <td>76561197970982479</td>\n",
       "      <td>2011.0</td>\n",
       "      <td>43110.0</td>\n",
       "      <td>True</td>\n",
       "      <td>0.050000</td>\n",
       "      <td>2</td>\n",
       "    </tr>\n",
       "    <tr>\n",
       "      <th>3</th>\n",
       "      <td>js41637</td>\n",
       "      <td>2014.0</td>\n",
       "      <td>251610.0</td>\n",
       "      <td>True</td>\n",
       "      <td>0.114583</td>\n",
       "      <td>2</td>\n",
       "    </tr>\n",
       "    <tr>\n",
       "      <th>4</th>\n",
       "      <td>js41637</td>\n",
       "      <td>2013.0</td>\n",
       "      <td>227300.0</td>\n",
       "      <td>True</td>\n",
       "      <td>-0.036111</td>\n",
       "      <td>0</td>\n",
       "    </tr>\n",
       "    <tr>\n",
       "      <th>...</th>\n",
       "      <td>...</td>\n",
       "      <td>...</td>\n",
       "      <td>...</td>\n",
       "      <td>...</td>\n",
       "      <td>...</td>\n",
       "      <td>...</td>\n",
       "    </tr>\n",
       "    <tr>\n",
       "      <th>59328</th>\n",
       "      <td>76561198312638244</td>\n",
       "      <td>NaN</td>\n",
       "      <td>70.0</td>\n",
       "      <td>True</td>\n",
       "      <td>0.233333</td>\n",
       "      <td>2</td>\n",
       "    </tr>\n",
       "    <tr>\n",
       "      <th>59329</th>\n",
       "      <td>76561198312638244</td>\n",
       "      <td>NaN</td>\n",
       "      <td>362890.0</td>\n",
       "      <td>True</td>\n",
       "      <td>0.142500</td>\n",
       "      <td>2</td>\n",
       "    </tr>\n",
       "    <tr>\n",
       "      <th>59330</th>\n",
       "      <td>LydiaMorley</td>\n",
       "      <td>NaN</td>\n",
       "      <td>273110.0</td>\n",
       "      <td>True</td>\n",
       "      <td>0.087500</td>\n",
       "      <td>2</td>\n",
       "    </tr>\n",
       "    <tr>\n",
       "      <th>59331</th>\n",
       "      <td>LydiaMorley</td>\n",
       "      <td>NaN</td>\n",
       "      <td>730.0</td>\n",
       "      <td>True</td>\n",
       "      <td>1.000000</td>\n",
       "      <td>2</td>\n",
       "    </tr>\n",
       "    <tr>\n",
       "      <th>59332</th>\n",
       "      <td>LydiaMorley</td>\n",
       "      <td>NaN</td>\n",
       "      <td>440.0</td>\n",
       "      <td>True</td>\n",
       "      <td>0.650000</td>\n",
       "      <td>2</td>\n",
       "    </tr>\n",
       "  </tbody>\n",
       "</table>\n",
       "<p>59333 rows × 6 columns</p>\n",
       "</div>"
      ],
      "text/plain": [
       "                 user_id  posted   item_id recommend  polarity  sentiment\n",
       "0      76561197970982479  2011.0    1250.0      True  0.174444          2\n",
       "1      76561197970982479  2011.0   22200.0      True  0.337500          2\n",
       "2      76561197970982479  2011.0   43110.0      True  0.050000          2\n",
       "3                js41637  2014.0  251610.0      True  0.114583          2\n",
       "4                js41637  2013.0  227300.0      True -0.036111          0\n",
       "...                  ...     ...       ...       ...       ...        ...\n",
       "59328  76561198312638244     NaN      70.0      True  0.233333          2\n",
       "59329  76561198312638244     NaN  362890.0      True  0.142500          2\n",
       "59330        LydiaMorley     NaN  273110.0      True  0.087500          2\n",
       "59331        LydiaMorley     NaN     730.0      True  1.000000          2\n",
       "59332        LydiaMorley     NaN     440.0      True  0.650000          2\n",
       "\n",
       "[59333 rows x 6 columns]"
      ]
     },
     "execution_count": 3,
     "metadata": {},
     "output_type": "execute_result"
    }
   ],
   "source": [
    "# Cargar el Dataframe\n",
    "df_user_reviews = pd.read_csv(\"C:/Users/Usuario/Desktop/Varios yo/SoyHenry/P1/Henry_PI1_Steam/data/user_reviews_2.csv\")\n",
    "df_user_reviews"
   ]
  },
  {
   "cell_type": "code",
   "execution_count": 4,
   "metadata": {},
   "outputs": [
    {
     "name": "stdout",
     "output_type": "stream",
     "text": [
      "user_id          0\n",
      "posted       10147\n",
      "item_id         28\n",
      "recommend       28\n",
      "polarity         0\n",
      "sentiment        0\n",
      "dtype: int64\n"
     ]
    }
   ],
   "source": [
    "print(df_user_reviews.isna().sum())"
   ]
  },
  {
   "cell_type": "code",
   "execution_count": 5,
   "metadata": {},
   "outputs": [
    {
     "data": {
      "text/html": [
       "<div>\n",
       "<style scoped>\n",
       "    .dataframe tbody tr th:only-of-type {\n",
       "        vertical-align: middle;\n",
       "    }\n",
       "\n",
       "    .dataframe tbody tr th {\n",
       "        vertical-align: top;\n",
       "    }\n",
       "\n",
       "    .dataframe thead th {\n",
       "        text-align: right;\n",
       "    }\n",
       "</style>\n",
       "<table border=\"1\" class=\"dataframe\">\n",
       "  <thead>\n",
       "    <tr style=\"text-align: right;\">\n",
       "      <th></th>\n",
       "      <th>user_id</th>\n",
       "      <th>posted</th>\n",
       "      <th>item_id</th>\n",
       "      <th>recommend</th>\n",
       "      <th>polarity</th>\n",
       "      <th>sentiment</th>\n",
       "    </tr>\n",
       "  </thead>\n",
       "  <tbody>\n",
       "    <tr>\n",
       "      <th>137</th>\n",
       "      <td>gdxsd</td>\n",
       "      <td>NaN</td>\n",
       "      <td>NaN</td>\n",
       "      <td>NaN</td>\n",
       "      <td>0.0</td>\n",
       "      <td>1</td>\n",
       "    </tr>\n",
       "    <tr>\n",
       "      <th>177</th>\n",
       "      <td>76561198094224872</td>\n",
       "      <td>NaN</td>\n",
       "      <td>NaN</td>\n",
       "      <td>NaN</td>\n",
       "      <td>0.0</td>\n",
       "      <td>1</td>\n",
       "    </tr>\n",
       "    <tr>\n",
       "      <th>2559</th>\n",
       "      <td>76561198021575394</td>\n",
       "      <td>NaN</td>\n",
       "      <td>NaN</td>\n",
       "      <td>NaN</td>\n",
       "      <td>0.0</td>\n",
       "      <td>1</td>\n",
       "    </tr>\n",
       "    <tr>\n",
       "      <th>10080</th>\n",
       "      <td>cmuir37</td>\n",
       "      <td>NaN</td>\n",
       "      <td>NaN</td>\n",
       "      <td>NaN</td>\n",
       "      <td>0.0</td>\n",
       "      <td>1</td>\n",
       "    </tr>\n",
       "    <tr>\n",
       "      <th>13767</th>\n",
       "      <td>Jaysteeny</td>\n",
       "      <td>NaN</td>\n",
       "      <td>NaN</td>\n",
       "      <td>NaN</td>\n",
       "      <td>0.0</td>\n",
       "      <td>1</td>\n",
       "    </tr>\n",
       "    <tr>\n",
       "      <th>15493</th>\n",
       "      <td>ML8989</td>\n",
       "      <td>NaN</td>\n",
       "      <td>NaN</td>\n",
       "      <td>NaN</td>\n",
       "      <td>0.0</td>\n",
       "      <td>1</td>\n",
       "    </tr>\n",
       "    <tr>\n",
       "      <th>19184</th>\n",
       "      <td>76561198079215291</td>\n",
       "      <td>NaN</td>\n",
       "      <td>NaN</td>\n",
       "      <td>NaN</td>\n",
       "      <td>0.0</td>\n",
       "      <td>1</td>\n",
       "    </tr>\n",
       "    <tr>\n",
       "      <th>20223</th>\n",
       "      <td>76561198079342142</td>\n",
       "      <td>NaN</td>\n",
       "      <td>NaN</td>\n",
       "      <td>NaN</td>\n",
       "      <td>0.0</td>\n",
       "      <td>1</td>\n",
       "    </tr>\n",
       "    <tr>\n",
       "      <th>25056</th>\n",
       "      <td>76561198061996985</td>\n",
       "      <td>NaN</td>\n",
       "      <td>NaN</td>\n",
       "      <td>NaN</td>\n",
       "      <td>0.0</td>\n",
       "      <td>1</td>\n",
       "    </tr>\n",
       "    <tr>\n",
       "      <th>26257</th>\n",
       "      <td>76561198108286351</td>\n",
       "      <td>NaN</td>\n",
       "      <td>NaN</td>\n",
       "      <td>NaN</td>\n",
       "      <td>0.0</td>\n",
       "      <td>1</td>\n",
       "    </tr>\n",
       "    <tr>\n",
       "      <th>26674</th>\n",
       "      <td>CallTripleZero</td>\n",
       "      <td>NaN</td>\n",
       "      <td>NaN</td>\n",
       "      <td>NaN</td>\n",
       "      <td>0.0</td>\n",
       "      <td>1</td>\n",
       "    </tr>\n",
       "    <tr>\n",
       "      <th>28444</th>\n",
       "      <td>Priceless612</td>\n",
       "      <td>NaN</td>\n",
       "      <td>NaN</td>\n",
       "      <td>NaN</td>\n",
       "      <td>0.0</td>\n",
       "      <td>1</td>\n",
       "    </tr>\n",
       "    <tr>\n",
       "      <th>28452</th>\n",
       "      <td>diabolical666</td>\n",
       "      <td>NaN</td>\n",
       "      <td>NaN</td>\n",
       "      <td>NaN</td>\n",
       "      <td>0.0</td>\n",
       "      <td>1</td>\n",
       "    </tr>\n",
       "    <tr>\n",
       "      <th>28975</th>\n",
       "      <td>DrScottnik</td>\n",
       "      <td>NaN</td>\n",
       "      <td>NaN</td>\n",
       "      <td>NaN</td>\n",
       "      <td>0.0</td>\n",
       "      <td>1</td>\n",
       "    </tr>\n",
       "    <tr>\n",
       "      <th>31955</th>\n",
       "      <td>76561198110176420</td>\n",
       "      <td>NaN</td>\n",
       "      <td>NaN</td>\n",
       "      <td>NaN</td>\n",
       "      <td>0.0</td>\n",
       "      <td>1</td>\n",
       "    </tr>\n",
       "    <tr>\n",
       "      <th>32819</th>\n",
       "      <td>jojoPL1987</td>\n",
       "      <td>NaN</td>\n",
       "      <td>NaN</td>\n",
       "      <td>NaN</td>\n",
       "      <td>0.0</td>\n",
       "      <td>1</td>\n",
       "    </tr>\n",
       "    <tr>\n",
       "      <th>33785</th>\n",
       "      <td>Kylee_Kylie</td>\n",
       "      <td>NaN</td>\n",
       "      <td>NaN</td>\n",
       "      <td>NaN</td>\n",
       "      <td>0.0</td>\n",
       "      <td>1</td>\n",
       "    </tr>\n",
       "    <tr>\n",
       "      <th>39279</th>\n",
       "      <td>_samie</td>\n",
       "      <td>NaN</td>\n",
       "      <td>NaN</td>\n",
       "      <td>NaN</td>\n",
       "      <td>0.0</td>\n",
       "      <td>1</td>\n",
       "    </tr>\n",
       "    <tr>\n",
       "      <th>39357</th>\n",
       "      <td>FifthExclamation</td>\n",
       "      <td>NaN</td>\n",
       "      <td>NaN</td>\n",
       "      <td>NaN</td>\n",
       "      <td>0.0</td>\n",
       "      <td>1</td>\n",
       "    </tr>\n",
       "    <tr>\n",
       "      <th>39420</th>\n",
       "      <td>sbenji</td>\n",
       "      <td>NaN</td>\n",
       "      <td>NaN</td>\n",
       "      <td>NaN</td>\n",
       "      <td>0.0</td>\n",
       "      <td>1</td>\n",
       "    </tr>\n",
       "    <tr>\n",
       "      <th>40661</th>\n",
       "      <td>SpatialWheel14</td>\n",
       "      <td>NaN</td>\n",
       "      <td>NaN</td>\n",
       "      <td>NaN</td>\n",
       "      <td>0.0</td>\n",
       "      <td>1</td>\n",
       "    </tr>\n",
       "    <tr>\n",
       "      <th>41777</th>\n",
       "      <td>76561198065238937</td>\n",
       "      <td>NaN</td>\n",
       "      <td>NaN</td>\n",
       "      <td>NaN</td>\n",
       "      <td>0.0</td>\n",
       "      <td>1</td>\n",
       "    </tr>\n",
       "    <tr>\n",
       "      <th>44384</th>\n",
       "      <td>76561198071075080</td>\n",
       "      <td>NaN</td>\n",
       "      <td>NaN</td>\n",
       "      <td>NaN</td>\n",
       "      <td>0.0</td>\n",
       "      <td>1</td>\n",
       "    </tr>\n",
       "    <tr>\n",
       "      <th>50718</th>\n",
       "      <td>76561198063489150</td>\n",
       "      <td>NaN</td>\n",
       "      <td>NaN</td>\n",
       "      <td>NaN</td>\n",
       "      <td>0.0</td>\n",
       "      <td>1</td>\n",
       "    </tr>\n",
       "    <tr>\n",
       "      <th>53323</th>\n",
       "      <td>thecommunistbear</td>\n",
       "      <td>NaN</td>\n",
       "      <td>NaN</td>\n",
       "      <td>NaN</td>\n",
       "      <td>0.0</td>\n",
       "      <td>1</td>\n",
       "    </tr>\n",
       "    <tr>\n",
       "      <th>55425</th>\n",
       "      <td>76561198085883839</td>\n",
       "      <td>NaN</td>\n",
       "      <td>NaN</td>\n",
       "      <td>NaN</td>\n",
       "      <td>0.0</td>\n",
       "      <td>1</td>\n",
       "    </tr>\n",
       "    <tr>\n",
       "      <th>57578</th>\n",
       "      <td>76561198100396147</td>\n",
       "      <td>NaN</td>\n",
       "      <td>NaN</td>\n",
       "      <td>NaN</td>\n",
       "      <td>0.0</td>\n",
       "      <td>1</td>\n",
       "    </tr>\n",
       "    <tr>\n",
       "      <th>57766</th>\n",
       "      <td>76561198102423654</td>\n",
       "      <td>NaN</td>\n",
       "      <td>NaN</td>\n",
       "      <td>NaN</td>\n",
       "      <td>0.0</td>\n",
       "      <td>1</td>\n",
       "    </tr>\n",
       "  </tbody>\n",
       "</table>\n",
       "</div>"
      ],
      "text/plain": [
       "                 user_id  posted  item_id recommend  polarity  sentiment\n",
       "137                gdxsd     NaN      NaN       NaN       0.0          1\n",
       "177    76561198094224872     NaN      NaN       NaN       0.0          1\n",
       "2559   76561198021575394     NaN      NaN       NaN       0.0          1\n",
       "10080            cmuir37     NaN      NaN       NaN       0.0          1\n",
       "13767          Jaysteeny     NaN      NaN       NaN       0.0          1\n",
       "15493             ML8989     NaN      NaN       NaN       0.0          1\n",
       "19184  76561198079215291     NaN      NaN       NaN       0.0          1\n",
       "20223  76561198079342142     NaN      NaN       NaN       0.0          1\n",
       "25056  76561198061996985     NaN      NaN       NaN       0.0          1\n",
       "26257  76561198108286351     NaN      NaN       NaN       0.0          1\n",
       "26674     CallTripleZero     NaN      NaN       NaN       0.0          1\n",
       "28444       Priceless612     NaN      NaN       NaN       0.0          1\n",
       "28452      diabolical666     NaN      NaN       NaN       0.0          1\n",
       "28975         DrScottnik     NaN      NaN       NaN       0.0          1\n",
       "31955  76561198110176420     NaN      NaN       NaN       0.0          1\n",
       "32819         jojoPL1987     NaN      NaN       NaN       0.0          1\n",
       "33785        Kylee_Kylie     NaN      NaN       NaN       0.0          1\n",
       "39279             _samie     NaN      NaN       NaN       0.0          1\n",
       "39357   FifthExclamation     NaN      NaN       NaN       0.0          1\n",
       "39420             sbenji     NaN      NaN       NaN       0.0          1\n",
       "40661     SpatialWheel14     NaN      NaN       NaN       0.0          1\n",
       "41777  76561198065238937     NaN      NaN       NaN       0.0          1\n",
       "44384  76561198071075080     NaN      NaN       NaN       0.0          1\n",
       "50718  76561198063489150     NaN      NaN       NaN       0.0          1\n",
       "53323   thecommunistbear     NaN      NaN       NaN       0.0          1\n",
       "55425  76561198085883839     NaN      NaN       NaN       0.0          1\n",
       "57578  76561198100396147     NaN      NaN       NaN       0.0          1\n",
       "57766  76561198102423654     NaN      NaN       NaN       0.0          1"
      ]
     },
     "execution_count": 5,
     "metadata": {},
     "output_type": "execute_result"
    }
   ],
   "source": [
    "# Revisar los nulos de recommend\n",
    "recommend = df_user_reviews[(df_user_reviews[\"recommend\"] != True) & (df_user_reviews[\"recommend\"] != False)]\n",
    "recommend"
   ]
  },
  {
   "cell_type": "markdown",
   "metadata": {},
   "source": [
    "Como todos los nulos de recommend tienen sentimiento neutral, los voy a rellenar con \"True\""
   ]
  },
  {
   "cell_type": "code",
   "execution_count": 6,
   "metadata": {},
   "outputs": [],
   "source": [
    "# Completar los valores faltantes de la columna genre con la columna tag\n",
    "df_user_reviews[\"recommend\"].fillna(True, inplace=True)"
   ]
  },
  {
   "cell_type": "code",
   "execution_count": 7,
   "metadata": {},
   "outputs": [
    {
     "name": "stdout",
     "output_type": "stream",
     "text": [
      "user_id          0\n",
      "posted       10147\n",
      "item_id         28\n",
      "recommend        0\n",
      "polarity         0\n",
      "sentiment        0\n",
      "dtype: int64\n"
     ]
    }
   ],
   "source": [
    "print(df_user_reviews.isna().sum())"
   ]
  },
  {
   "cell_type": "code",
   "execution_count": 8,
   "metadata": {},
   "outputs": [],
   "source": [
    "# Eliminar la columna de polaridad porque ya la utilicé para el sentimiento \n",
    "df_user_reviews.drop(\"polarity\", axis=1, inplace=True)"
   ]
  },
  {
   "cell_type": "code",
   "execution_count": 9,
   "metadata": {},
   "outputs": [],
   "source": [
    "# Eliminar valores nulos de item_id porque no van a permitir hacer los merge con los demás datasets\n",
    "df_user_reviews.dropna(subset= 'item_id', inplace=True)"
   ]
  },
  {
   "cell_type": "code",
   "execution_count": 10,
   "metadata": {},
   "outputs": [],
   "source": [
    "# Renombrar la columna de 'item_id'\n",
    "df_user_reviews = df_user_reviews.rename(columns={'item_id': 'id'})"
   ]
  },
  {
   "cell_type": "code",
   "execution_count": 11,
   "metadata": {},
   "outputs": [],
   "source": [
    "# Eliminar valores duplicados si los hay\n",
    "df_user_reviews.drop_duplicates(inplace=True)"
   ]
  },
  {
   "cell_type": "code",
   "execution_count": 12,
   "metadata": {},
   "outputs": [
    {
     "data": {
      "text/html": [
       "<div>\n",
       "<style scoped>\n",
       "    .dataframe tbody tr th:only-of-type {\n",
       "        vertical-align: middle;\n",
       "    }\n",
       "\n",
       "    .dataframe tbody tr th {\n",
       "        vertical-align: top;\n",
       "    }\n",
       "\n",
       "    .dataframe thead th {\n",
       "        text-align: right;\n",
       "    }\n",
       "</style>\n",
       "<table border=\"1\" class=\"dataframe\">\n",
       "  <thead>\n",
       "    <tr style=\"text-align: right;\">\n",
       "      <th></th>\n",
       "      <th>user_id</th>\n",
       "      <th>posted</th>\n",
       "      <th>id</th>\n",
       "      <th>recommend</th>\n",
       "      <th>sentiment</th>\n",
       "    </tr>\n",
       "  </thead>\n",
       "  <tbody>\n",
       "    <tr>\n",
       "      <th>0</th>\n",
       "      <td>76561197970982479</td>\n",
       "      <td>2011.0</td>\n",
       "      <td>1250.0</td>\n",
       "      <td>True</td>\n",
       "      <td>2</td>\n",
       "    </tr>\n",
       "    <tr>\n",
       "      <th>1</th>\n",
       "      <td>76561197970982479</td>\n",
       "      <td>2011.0</td>\n",
       "      <td>22200.0</td>\n",
       "      <td>True</td>\n",
       "      <td>2</td>\n",
       "    </tr>\n",
       "    <tr>\n",
       "      <th>2</th>\n",
       "      <td>76561197970982479</td>\n",
       "      <td>2011.0</td>\n",
       "      <td>43110.0</td>\n",
       "      <td>True</td>\n",
       "      <td>2</td>\n",
       "    </tr>\n",
       "    <tr>\n",
       "      <th>3</th>\n",
       "      <td>js41637</td>\n",
       "      <td>2014.0</td>\n",
       "      <td>251610.0</td>\n",
       "      <td>True</td>\n",
       "      <td>2</td>\n",
       "    </tr>\n",
       "    <tr>\n",
       "      <th>4</th>\n",
       "      <td>js41637</td>\n",
       "      <td>2013.0</td>\n",
       "      <td>227300.0</td>\n",
       "      <td>True</td>\n",
       "      <td>0</td>\n",
       "    </tr>\n",
       "    <tr>\n",
       "      <th>...</th>\n",
       "      <td>...</td>\n",
       "      <td>...</td>\n",
       "      <td>...</td>\n",
       "      <td>...</td>\n",
       "      <td>...</td>\n",
       "    </tr>\n",
       "    <tr>\n",
       "      <th>59328</th>\n",
       "      <td>76561198312638244</td>\n",
       "      <td>NaN</td>\n",
       "      <td>70.0</td>\n",
       "      <td>True</td>\n",
       "      <td>2</td>\n",
       "    </tr>\n",
       "    <tr>\n",
       "      <th>59329</th>\n",
       "      <td>76561198312638244</td>\n",
       "      <td>NaN</td>\n",
       "      <td>362890.0</td>\n",
       "      <td>True</td>\n",
       "      <td>2</td>\n",
       "    </tr>\n",
       "    <tr>\n",
       "      <th>59330</th>\n",
       "      <td>LydiaMorley</td>\n",
       "      <td>NaN</td>\n",
       "      <td>273110.0</td>\n",
       "      <td>True</td>\n",
       "      <td>2</td>\n",
       "    </tr>\n",
       "    <tr>\n",
       "      <th>59331</th>\n",
       "      <td>LydiaMorley</td>\n",
       "      <td>NaN</td>\n",
       "      <td>730.0</td>\n",
       "      <td>True</td>\n",
       "      <td>2</td>\n",
       "    </tr>\n",
       "    <tr>\n",
       "      <th>59332</th>\n",
       "      <td>LydiaMorley</td>\n",
       "      <td>NaN</td>\n",
       "      <td>440.0</td>\n",
       "      <td>True</td>\n",
       "      <td>2</td>\n",
       "    </tr>\n",
       "  </tbody>\n",
       "</table>\n",
       "<p>58431 rows × 5 columns</p>\n",
       "</div>"
      ],
      "text/plain": [
       "                 user_id  posted        id  recommend  sentiment\n",
       "0      76561197970982479  2011.0    1250.0       True          2\n",
       "1      76561197970982479  2011.0   22200.0       True          2\n",
       "2      76561197970982479  2011.0   43110.0       True          2\n",
       "3                js41637  2014.0  251610.0       True          2\n",
       "4                js41637  2013.0  227300.0       True          0\n",
       "...                  ...     ...       ...        ...        ...\n",
       "59328  76561198312638244     NaN      70.0       True          2\n",
       "59329  76561198312638244     NaN  362890.0       True          2\n",
       "59330        LydiaMorley     NaN  273110.0       True          2\n",
       "59331        LydiaMorley     NaN     730.0       True          2\n",
       "59332        LydiaMorley     NaN     440.0       True          2\n",
       "\n",
       "[58431 rows x 5 columns]"
      ]
     },
     "execution_count": 12,
     "metadata": {},
     "output_type": "execute_result"
    }
   ],
   "source": [
    "df_user_reviews"
   ]
  },
  {
   "cell_type": "code",
   "execution_count": 13,
   "metadata": {},
   "outputs": [
    {
     "name": "stdout",
     "output_type": "stream",
     "text": [
      "user_id         0\n",
      "posted       9933\n",
      "id              0\n",
      "recommend       0\n",
      "sentiment       0\n",
      "dtype: int64\n"
     ]
    }
   ],
   "source": [
    "print(df_user_reviews.isna().sum())"
   ]
  },
  {
   "cell_type": "code",
   "execution_count": 14,
   "metadata": {},
   "outputs": [
    {
     "data": {
      "text/plain": [
       "posted\n",
       "2014.0    21834\n",
       "2015.0    18154\n",
       "2013.0     6713\n",
       "2012.0     1201\n",
       "2011.0      530\n",
       "2010.0       66\n",
       "Name: count, dtype: int64"
      ]
     },
     "execution_count": 14,
     "metadata": {},
     "output_type": "execute_result"
    }
   ],
   "source": [
    "# Convertir la columna 'posted' a tipo numérico\n",
    "df_user_reviews['posted'].value_counts()"
   ]
  },
  {
   "cell_type": "markdown",
   "metadata": {},
   "source": [
    "Por el momento no voy a eliminar los nulos de la fecha de posteo porque pierdo 9933 registros. Eventualmente pueden ser eliminados con una línea de código en la etapa de ML."
   ]
  },
  {
   "cell_type": "code",
   "execution_count": 15,
   "metadata": {},
   "outputs": [
    {
     "name": "stderr",
     "output_type": "stream",
     "text": [
      "C:\\Users\\Usuario\\AppData\\Local\\Temp\\ipykernel_220\\1913866256.py:2: FutureWarning: Setting an item of incompatible dtype is deprecated and will raise in a future error of pandas. Value 'sin fecha' has dtype incompatible with float64, please explicitly cast to a compatible dtype first.\n",
      "  df_user_reviews[\"posted\"].fillna(\"sin fecha\", inplace=True)\n"
     ]
    }
   ],
   "source": [
    "# Completar los valores faltantes de la fecha de posteo\n",
    "df_user_reviews[\"posted\"].fillna(\"sin fecha\", inplace=True)"
   ]
  },
  {
   "cell_type": "code",
   "execution_count": 16,
   "metadata": {},
   "outputs": [
    {
     "name": "stdout",
     "output_type": "stream",
     "text": [
      "user_id      0\n",
      "posted       0\n",
      "id           0\n",
      "recommend    0\n",
      "sentiment    0\n",
      "dtype: int64\n"
     ]
    }
   ],
   "source": [
    "print(df_user_reviews.isna().sum())"
   ]
  },
  {
   "cell_type": "markdown",
   "metadata": {},
   "source": [
    "### EDA POSTED"
   ]
  },
  {
   "cell_type": "code",
   "execution_count": 17,
   "metadata": {},
   "outputs": [
    {
     "data": {
      "text/plain": [
       "posted\n",
       "2014.0       21834\n",
       "2015.0       18154\n",
       "sin fecha     9933\n",
       "2013.0        6713\n",
       "2012.0        1201\n",
       "2011.0         530\n",
       "2010.0          66\n",
       "Name: count, dtype: int64"
      ]
     },
     "execution_count": 17,
     "metadata": {},
     "output_type": "execute_result"
    }
   ],
   "source": [
    "# Conteo de valores\n",
    "df_user_reviews['posted'].value_counts()"
   ]
  },
  {
   "cell_type": "code",
   "execution_count": 18,
   "metadata": {},
   "outputs": [
    {
     "data": {
      "text/plain": [
       "count     58431.0\n",
       "unique        7.0\n",
       "top        2014.0\n",
       "freq      21834.0\n",
       "Name: posted, dtype: float64"
      ]
     },
     "execution_count": 18,
     "metadata": {},
     "output_type": "execute_result"
    }
   ],
   "source": [
    "df_user_reviews['posted'].describe()"
   ]
  },
  {
   "cell_type": "code",
   "execution_count": 19,
   "metadata": {},
   "outputs": [
    {
     "data": {
      "image/png": "[encoded data removed]",
      "text/plain": [
       "<Figure size 1000x500 with 1 Axes>"
      ]
     },
     "metadata": {},
     "output_type": "display_data"
    }
   ],
   "source": [
    "# Agrupar los datos por año y contar la cantidad de posteos en cada año\n",
    "recuento = df_user_reviews['posted'].astype(str).value_counts().sort_index(ascending=False)\n",
    "\n",
    "# Crear un gráfico de barras\n",
    "plt.figure(figsize=(10, 5))\n",
    "plt.bar(recuento.index, recuento.values, color='green')\n",
    "\n",
    "# Configurar etiquetas y título\n",
    "plt.xlabel('Año de Posteo')\n",
    "plt.ylabel('Cantidad de Posteos')\n",
    "plt.title('Posteos y Calificaciones Sobre Juegos por Año')\n",
    "\n",
    "# Mostrar el gráfico\n",
    "plt.grid()\n",
    "plt.show()"
   ]
  },
  {
   "cell_type": "markdown",
   "metadata": {},
   "source": [
    "### EDA SENTIMENT"
   ]
  },
  {
   "cell_type": "code",
   "execution_count": 20,
   "metadata": {},
   "outputs": [
    {
     "name": "stdout",
     "output_type": "stream",
     "text": [
      "<class 'pandas.core.series.Series'>\n",
      "Index: 58431 entries, 0 to 59332\n",
      "Series name: sentiment\n",
      "Non-Null Count  Dtype\n",
      "--------------  -----\n",
      "58431 non-null  int64\n",
      "dtypes: int64(1)\n",
      "memory usage: 913.0 KB\n"
     ]
    }
   ],
   "source": [
    "df_user_reviews['sentiment'].info()"
   ]
  },
  {
   "cell_type": "code",
   "execution_count": 21,
   "metadata": {},
   "outputs": [
    {
     "data": {
      "text/plain": [
       "sentiment\n",
       "2    33053\n",
       "1    12932\n",
       "0    12446\n",
       "Name: count, dtype: int64"
      ]
     },
     "execution_count": 21,
     "metadata": {},
     "output_type": "execute_result"
    }
   ],
   "source": [
    "df_user_reviews['sentiment'].value_counts()"
   ]
  },
  {
   "cell_type": "code",
   "execution_count": 29,
   "metadata": {},
   "outputs": [
    {
     "data": {
      "image/png": "[encoded data removed]",
      "text/plain": [
       "<Figure size 600x600 with 1 Axes>"
      ]
     },
     "metadata": {},
     "output_type": "display_data"
    }
   ],
   "source": [
    "# Crear un gráfico de torta\n",
    "plt.figure(figsize=(6, 6))\n",
    "plt.pie(x=df_user_reviews['sentiment'].value_counts(), labels=[\"Positivos\", \"Neutros\", \"Negativos\"])\n",
    "\n",
    "# Configurar título\n",
    "plt.title('Proporción de Sentimientos')\n",
    "\n",
    "# Mostrar el gráfico\n",
    "plt.show()"
   ]
  },
  {
   "cell_type": "markdown",
   "metadata": {},
   "source": [
    "### EDA RECOMMEND"
   ]
  },
  {
   "cell_type": "code",
   "execution_count": 32,
   "metadata": {},
   "outputs": [
    {
     "name": "stdout",
     "output_type": "stream",
     "text": [
      "<class 'pandas.core.series.Series'>\n",
      "Index: 58431 entries, 0 to 59332\n",
      "Series name: recommend\n",
      "Non-Null Count  Dtype\n",
      "--------------  -----\n",
      "58431 non-null  bool \n",
      "dtypes: bool(1)\n",
      "memory usage: 513.6 KB\n"
     ]
    }
   ],
   "source": [
    "df_user_reviews['recommend'].info()"
   ]
  },
  {
   "cell_type": "code",
   "execution_count": 33,
   "metadata": {},
   "outputs": [
    {
     "data": {
      "text/plain": [
       "count     58431\n",
       "unique        2\n",
       "top        True\n",
       "freq      51692\n",
       "Name: recommend, dtype: object"
      ]
     },
     "execution_count": 33,
     "metadata": {},
     "output_type": "execute_result"
    }
   ],
   "source": [
    "df_user_reviews['recommend'].describe()"
   ]
  },
  {
   "cell_type": "code",
   "execution_count": 30,
   "metadata": {},
   "outputs": [
    {
     "data": {
      "text/plain": [
       "recommend\n",
       "True     51692\n",
       "False     6739\n",
       "Name: count, dtype: int64"
      ]
     },
     "execution_count": 30,
     "metadata": {},
     "output_type": "execute_result"
    }
   ],
   "source": [
    "df_user_reviews['recommend'].value_counts()"
   ]
  },
  {
   "cell_type": "code",
   "execution_count": 38,
   "metadata": {},
   "outputs": [
    {
     "data": {
      "image/png": "[encoded data removed]",
      "text/plain": [
       "<Figure size 600x600 with 1 Axes>"
      ]
     },
     "metadata": {},
     "output_type": "display_data"
    }
   ],
   "source": [
    "# Crear un gráfico de torta\n",
    "plt.figure(figsize=(6, 6))\n",
    "plt.pie(x=df_user_reviews['recommend'].value_counts(), labels=[\"TRUE\", \"FALSE\"])\n",
    "\n",
    "# Configurar título\n",
    "plt.title('Recomendaciones vs No Recomendaciones')\n",
    "\n",
    "# Mostrar el gráfico\n",
    "plt.show()"
   ]
  },
  {
   "cell_type": "code",
   "execution_count": 35,
   "metadata": {},
   "outputs": [],
   "source": [
    "# Asignar el valor 1 a True y el valor 0 a False para que sea interpretado por los modelos de ML\n",
    "df_user_reviews['recommend'] = df_user_reviews['recommend'].replace({True: 1, False: 0})"
   ]
  },
  {
   "cell_type": "code",
   "execution_count": 36,
   "metadata": {},
   "outputs": [
    {
     "data": {
      "text/html": [
       "<div>\n",
       "<style scoped>\n",
       "    .dataframe tbody tr th:only-of-type {\n",
       "        vertical-align: middle;\n",
       "    }\n",
       "\n",
       "    .dataframe tbody tr th {\n",
       "        vertical-align: top;\n",
       "    }\n",
       "\n",
       "    .dataframe thead th {\n",
       "        text-align: right;\n",
       "    }\n",
       "</style>\n",
       "<table border=\"1\" class=\"dataframe\">\n",
       "  <thead>\n",
       "    <tr style=\"text-align: right;\">\n",
       "      <th></th>\n",
       "      <th>user_id</th>\n",
       "      <th>posted</th>\n",
       "      <th>id</th>\n",
       "      <th>recommend</th>\n",
       "      <th>sentiment</th>\n",
       "    </tr>\n",
       "  </thead>\n",
       "  <tbody>\n",
       "    <tr>\n",
       "      <th>0</th>\n",
       "      <td>76561197970982479</td>\n",
       "      <td>2011.0</td>\n",
       "      <td>1250.0</td>\n",
       "      <td>1</td>\n",
       "      <td>2</td>\n",
       "    </tr>\n",
       "    <tr>\n",
       "      <th>1</th>\n",
       "      <td>76561197970982479</td>\n",
       "      <td>2011.0</td>\n",
       "      <td>22200.0</td>\n",
       "      <td>1</td>\n",
       "      <td>2</td>\n",
       "    </tr>\n",
       "    <tr>\n",
       "      <th>2</th>\n",
       "      <td>76561197970982479</td>\n",
       "      <td>2011.0</td>\n",
       "      <td>43110.0</td>\n",
       "      <td>1</td>\n",
       "      <td>2</td>\n",
       "    </tr>\n",
       "    <tr>\n",
       "      <th>3</th>\n",
       "      <td>js41637</td>\n",
       "      <td>2014.0</td>\n",
       "      <td>251610.0</td>\n",
       "      <td>1</td>\n",
       "      <td>2</td>\n",
       "    </tr>\n",
       "    <tr>\n",
       "      <th>4</th>\n",
       "      <td>js41637</td>\n",
       "      <td>2013.0</td>\n",
       "      <td>227300.0</td>\n",
       "      <td>1</td>\n",
       "      <td>0</td>\n",
       "    </tr>\n",
       "    <tr>\n",
       "      <th>...</th>\n",
       "      <td>...</td>\n",
       "      <td>...</td>\n",
       "      <td>...</td>\n",
       "      <td>...</td>\n",
       "      <td>...</td>\n",
       "    </tr>\n",
       "    <tr>\n",
       "      <th>59328</th>\n",
       "      <td>76561198312638244</td>\n",
       "      <td>sin fecha</td>\n",
       "      <td>70.0</td>\n",
       "      <td>1</td>\n",
       "      <td>2</td>\n",
       "    </tr>\n",
       "    <tr>\n",
       "      <th>59329</th>\n",
       "      <td>76561198312638244</td>\n",
       "      <td>sin fecha</td>\n",
       "      <td>362890.0</td>\n",
       "      <td>1</td>\n",
       "      <td>2</td>\n",
       "    </tr>\n",
       "    <tr>\n",
       "      <th>59330</th>\n",
       "      <td>LydiaMorley</td>\n",
       "      <td>sin fecha</td>\n",
       "      <td>273110.0</td>\n",
       "      <td>1</td>\n",
       "      <td>2</td>\n",
       "    </tr>\n",
       "    <tr>\n",
       "      <th>59331</th>\n",
       "      <td>LydiaMorley</td>\n",
       "      <td>sin fecha</td>\n",
       "      <td>730.0</td>\n",
       "      <td>1</td>\n",
       "      <td>2</td>\n",
       "    </tr>\n",
       "    <tr>\n",
       "      <th>59332</th>\n",
       "      <td>LydiaMorley</td>\n",
       "      <td>sin fecha</td>\n",
       "      <td>440.0</td>\n",
       "      <td>1</td>\n",
       "      <td>2</td>\n",
       "    </tr>\n",
       "  </tbody>\n",
       "</table>\n",
       "<p>58431 rows × 5 columns</p>\n",
       "</div>"
      ],
      "text/plain": [
       "                 user_id     posted        id  recommend  sentiment\n",
       "0      76561197970982479     2011.0    1250.0          1          2\n",
       "1      76561197970982479     2011.0   22200.0          1          2\n",
       "2      76561197970982479     2011.0   43110.0          1          2\n",
       "3                js41637     2014.0  251610.0          1          2\n",
       "4                js41637     2013.0  227300.0          1          0\n",
       "...                  ...        ...       ...        ...        ...\n",
       "59328  76561198312638244  sin fecha      70.0          1          2\n",
       "59329  76561198312638244  sin fecha  362890.0          1          2\n",
       "59330        LydiaMorley  sin fecha  273110.0          1          2\n",
       "59331        LydiaMorley  sin fecha     730.0          1          2\n",
       "59332        LydiaMorley  sin fecha     440.0          1          2\n",
       "\n",
       "[58431 rows x 5 columns]"
      ]
     },
     "execution_count": 36,
     "metadata": {},
     "output_type": "execute_result"
    }
   ],
   "source": [
    "df_user_reviews"
   ]
  },
  {
   "cell_type": "markdown",
   "metadata": {},
   "source": [
    "### Por último quiero ver si hay coherencia entre la columna de recomendaciones y la columna de sentimiento:"
   ]
  },
  {
   "cell_type": "code",
   "execution_count": 46,
   "metadata": {},
   "outputs": [
    {
     "data": {
      "image/png": "[encoded data removed]",
      "text/plain": [
       "<Figure size 800x600 with 1 Axes>"
      ]
     },
     "metadata": {},
     "output_type": "display_data"
    }
   ],
   "source": [
    "# Crear una tabla de contingencia (matriz de conteo)\n",
    "tabla_contingencia = pd.crosstab(df_user_reviews[\"recommend\"], df_user_reviews[\"sentiment\"])\n",
    "\n",
    "# Crear un heatmap para visualizar la tabla de contingencia\n",
    "plt.figure(figsize=(8, 6))\n",
    "sns.heatmap(tabla_contingencia, annot=True, fmt=\"d\", cmap=\"YlGnBu\", cbar=False)\n",
    "plt.xlabel(\"Categorías de Sentimiento\")\n",
    "plt.ylabel(\"Recommendación\")\n",
    "plt.title(\"Matriz de Recuentos: Recomendaciones y Sentimiento\")\n",
    "\n",
    "# Personalizar las etiquetas de los ejes\n",
    "plt.xticks(ticks=[0.5, 1.5, 2.5], labels=[\"Negativas\", \"Neutrales\", \"Positivas\"])\n",
    "plt.yticks(ticks=[0.5, 1.5], labels=[\"No Recomienda\", \"Recomienda\"])\n",
    "\n",
    "# Mostrar la matriz\n",
    "plt.show()"
   ]
  },
  {
   "cell_type": "markdown",
   "metadata": {},
   "source": [
    "### Se observa una buena correspondencia entre los positivos de recomendación y sentimeinto, pero una mala correspondencia entre los negativos, es decir que cuando realicé el análisis de sentimiento, el modelo (la librería), calificó como reseñas negativas un montón de posteos en lo que se recomendó el juego. Esto es lo que se podría llamar \"Falsos Negativos\", ya que la Recomendación es un valor exacto y el Sentimiento es una valoración de un modelo."
   ]
  },
  {
   "cell_type": "code",
   "execution_count": 47,
   "metadata": {},
   "outputs": [
    {
     "data": {
      "text/html": [
       "<div>\n",
       "<style scoped>\n",
       "    .dataframe tbody tr th:only-of-type {\n",
       "        vertical-align: middle;\n",
       "    }\n",
       "\n",
       "    .dataframe tbody tr th {\n",
       "        vertical-align: top;\n",
       "    }\n",
       "\n",
       "    .dataframe thead th {\n",
       "        text-align: right;\n",
       "    }\n",
       "</style>\n",
       "<table border=\"1\" class=\"dataframe\">\n",
       "  <thead>\n",
       "    <tr style=\"text-align: right;\">\n",
       "      <th></th>\n",
       "      <th>user_id</th>\n",
       "      <th>posted</th>\n",
       "      <th>id</th>\n",
       "      <th>recommend</th>\n",
       "      <th>sentiment</th>\n",
       "    </tr>\n",
       "  </thead>\n",
       "  <tbody>\n",
       "    <tr>\n",
       "      <th>0</th>\n",
       "      <td>76561197970982479</td>\n",
       "      <td>2011.0</td>\n",
       "      <td>1250.0</td>\n",
       "      <td>1</td>\n",
       "      <td>2</td>\n",
       "    </tr>\n",
       "    <tr>\n",
       "      <th>1</th>\n",
       "      <td>76561197970982479</td>\n",
       "      <td>2011.0</td>\n",
       "      <td>22200.0</td>\n",
       "      <td>1</td>\n",
       "      <td>2</td>\n",
       "    </tr>\n",
       "    <tr>\n",
       "      <th>2</th>\n",
       "      <td>76561197970982479</td>\n",
       "      <td>2011.0</td>\n",
       "      <td>43110.0</td>\n",
       "      <td>1</td>\n",
       "      <td>2</td>\n",
       "    </tr>\n",
       "    <tr>\n",
       "      <th>3</th>\n",
       "      <td>js41637</td>\n",
       "      <td>2014.0</td>\n",
       "      <td>251610.0</td>\n",
       "      <td>1</td>\n",
       "      <td>2</td>\n",
       "    </tr>\n",
       "    <tr>\n",
       "      <th>4</th>\n",
       "      <td>js41637</td>\n",
       "      <td>2013.0</td>\n",
       "      <td>227300.0</td>\n",
       "      <td>1</td>\n",
       "      <td>0</td>\n",
       "    </tr>\n",
       "    <tr>\n",
       "      <th>...</th>\n",
       "      <td>...</td>\n",
       "      <td>...</td>\n",
       "      <td>...</td>\n",
       "      <td>...</td>\n",
       "      <td>...</td>\n",
       "    </tr>\n",
       "    <tr>\n",
       "      <th>59328</th>\n",
       "      <td>76561198312638244</td>\n",
       "      <td>sin fecha</td>\n",
       "      <td>70.0</td>\n",
       "      <td>1</td>\n",
       "      <td>2</td>\n",
       "    </tr>\n",
       "    <tr>\n",
       "      <th>59329</th>\n",
       "      <td>76561198312638244</td>\n",
       "      <td>sin fecha</td>\n",
       "      <td>362890.0</td>\n",
       "      <td>1</td>\n",
       "      <td>2</td>\n",
       "    </tr>\n",
       "    <tr>\n",
       "      <th>59330</th>\n",
       "      <td>LydiaMorley</td>\n",
       "      <td>sin fecha</td>\n",
       "      <td>273110.0</td>\n",
       "      <td>1</td>\n",
       "      <td>2</td>\n",
       "    </tr>\n",
       "    <tr>\n",
       "      <th>59331</th>\n",
       "      <td>LydiaMorley</td>\n",
       "      <td>sin fecha</td>\n",
       "      <td>730.0</td>\n",
       "      <td>1</td>\n",
       "      <td>2</td>\n",
       "    </tr>\n",
       "    <tr>\n",
       "      <th>59332</th>\n",
       "      <td>LydiaMorley</td>\n",
       "      <td>sin fecha</td>\n",
       "      <td>440.0</td>\n",
       "      <td>1</td>\n",
       "      <td>2</td>\n",
       "    </tr>\n",
       "  </tbody>\n",
       "</table>\n",
       "<p>58431 rows × 5 columns</p>\n",
       "</div>"
      ],
      "text/plain": [
       "                 user_id     posted        id  recommend  sentiment\n",
       "0      76561197970982479     2011.0    1250.0          1          2\n",
       "1      76561197970982479     2011.0   22200.0          1          2\n",
       "2      76561197970982479     2011.0   43110.0          1          2\n",
       "3                js41637     2014.0  251610.0          1          2\n",
       "4                js41637     2013.0  227300.0          1          0\n",
       "...                  ...        ...       ...        ...        ...\n",
       "59328  76561198312638244  sin fecha      70.0          1          2\n",
       "59329  76561198312638244  sin fecha  362890.0          1          2\n",
       "59330        LydiaMorley  sin fecha  273110.0          1          2\n",
       "59331        LydiaMorley  sin fecha     730.0          1          2\n",
       "59332        LydiaMorley  sin fecha     440.0          1          2\n",
       "\n",
       "[58431 rows x 5 columns]"
      ]
     },
     "execution_count": 47,
     "metadata": {},
     "output_type": "execute_result"
    }
   ],
   "source": [
    "df_user_reviews"
   ]
  },
  {
   "cell_type": "code",
   "execution_count": 48,
   "metadata": {},
   "outputs": [],
   "source": [
    "# Exportar el Dataframe a .csv eliminando el índice\n",
    "df_user_reviews.to_csv(\"data/user_reviews_3.csv\", index=False)"
   ]
  },
  {
   "cell_type": "code",
   "execution_count": 49,
   "metadata": {},
   "outputs": [
    {
     "data": {
      "text/html": [
       "<div>\n",
       "<style scoped>\n",
       "    .dataframe tbody tr th:only-of-type {\n",
       "        vertical-align: middle;\n",
       "    }\n",
       "\n",
       "    .dataframe tbody tr th {\n",
       "        vertical-align: top;\n",
       "    }\n",
       "\n",
       "    .dataframe thead th {\n",
       "        text-align: right;\n",
       "    }\n",
       "</style>\n",
       "<table border=\"1\" class=\"dataframe\">\n",
       "  <thead>\n",
       "    <tr style=\"text-align: right;\">\n",
       "      <th></th>\n",
       "      <th>user_id</th>\n",
       "      <th>posted</th>\n",
       "      <th>id</th>\n",
       "      <th>recommend</th>\n",
       "      <th>sentiment</th>\n",
       "    </tr>\n",
       "  </thead>\n",
       "  <tbody>\n",
       "    <tr>\n",
       "      <th>0</th>\n",
       "      <td>76561197970982479</td>\n",
       "      <td>2011.0</td>\n",
       "      <td>1250.0</td>\n",
       "      <td>1</td>\n",
       "      <td>2</td>\n",
       "    </tr>\n",
       "    <tr>\n",
       "      <th>1</th>\n",
       "      <td>76561197970982479</td>\n",
       "      <td>2011.0</td>\n",
       "      <td>22200.0</td>\n",
       "      <td>1</td>\n",
       "      <td>2</td>\n",
       "    </tr>\n",
       "    <tr>\n",
       "      <th>2</th>\n",
       "      <td>76561197970982479</td>\n",
       "      <td>2011.0</td>\n",
       "      <td>43110.0</td>\n",
       "      <td>1</td>\n",
       "      <td>2</td>\n",
       "    </tr>\n",
       "    <tr>\n",
       "      <th>3</th>\n",
       "      <td>js41637</td>\n",
       "      <td>2014.0</td>\n",
       "      <td>251610.0</td>\n",
       "      <td>1</td>\n",
       "      <td>2</td>\n",
       "    </tr>\n",
       "    <tr>\n",
       "      <th>4</th>\n",
       "      <td>js41637</td>\n",
       "      <td>2013.0</td>\n",
       "      <td>227300.0</td>\n",
       "      <td>1</td>\n",
       "      <td>0</td>\n",
       "    </tr>\n",
       "    <tr>\n",
       "      <th>...</th>\n",
       "      <td>...</td>\n",
       "      <td>...</td>\n",
       "      <td>...</td>\n",
       "      <td>...</td>\n",
       "      <td>...</td>\n",
       "    </tr>\n",
       "    <tr>\n",
       "      <th>58426</th>\n",
       "      <td>76561198312638244</td>\n",
       "      <td>sin fecha</td>\n",
       "      <td>70.0</td>\n",
       "      <td>1</td>\n",
       "      <td>2</td>\n",
       "    </tr>\n",
       "    <tr>\n",
       "      <th>58427</th>\n",
       "      <td>76561198312638244</td>\n",
       "      <td>sin fecha</td>\n",
       "      <td>362890.0</td>\n",
       "      <td>1</td>\n",
       "      <td>2</td>\n",
       "    </tr>\n",
       "    <tr>\n",
       "      <th>58428</th>\n",
       "      <td>LydiaMorley</td>\n",
       "      <td>sin fecha</td>\n",
       "      <td>273110.0</td>\n",
       "      <td>1</td>\n",
       "      <td>2</td>\n",
       "    </tr>\n",
       "    <tr>\n",
       "      <th>58429</th>\n",
       "      <td>LydiaMorley</td>\n",
       "      <td>sin fecha</td>\n",
       "      <td>730.0</td>\n",
       "      <td>1</td>\n",
       "      <td>2</td>\n",
       "    </tr>\n",
       "    <tr>\n",
       "      <th>58430</th>\n",
       "      <td>LydiaMorley</td>\n",
       "      <td>sin fecha</td>\n",
       "      <td>440.0</td>\n",
       "      <td>1</td>\n",
       "      <td>2</td>\n",
       "    </tr>\n",
       "  </tbody>\n",
       "</table>\n",
       "<p>58431 rows × 5 columns</p>\n",
       "</div>"
      ],
      "text/plain": [
       "                 user_id     posted        id  recommend  sentiment\n",
       "0      76561197970982479     2011.0    1250.0          1          2\n",
       "1      76561197970982479     2011.0   22200.0          1          2\n",
       "2      76561197970982479     2011.0   43110.0          1          2\n",
       "3                js41637     2014.0  251610.0          1          2\n",
       "4                js41637     2013.0  227300.0          1          0\n",
       "...                  ...        ...       ...        ...        ...\n",
       "58426  76561198312638244  sin fecha      70.0          1          2\n",
       "58427  76561198312638244  sin fecha  362890.0          1          2\n",
       "58428        LydiaMorley  sin fecha  273110.0          1          2\n",
       "58429        LydiaMorley  sin fecha     730.0          1          2\n",
       "58430        LydiaMorley  sin fecha     440.0          1          2\n",
       "\n",
       "[58431 rows x 5 columns]"
      ]
     },
     "execution_count": 49,
     "metadata": {},
     "output_type": "execute_result"
    }
   ],
   "source": [
    "# Verificar el .csv\n",
    "df = pd.read_csv(\"data/user_reviews_3.csv\")\n",
    "df"
   ]
  }
 ],
 "metadata": {
  "kernelspec": {
   "display_name": "Python 3",
   "language": "python",
   "name": "python3"
  },
  "language_info": {
   "codemirror_mode": {
    "name": "ipython",
    "version": 3
   },
   "file_extension": ".py",
   "mimetype": "text/x-python",
   "name": "python",
   "nbconvert_exporter": "python",
   "pygments_lexer": "ipython3",
   "version": "3.11.5"
  }
 },
 "nbformat": 4,
 "nbformat_minor": 2
}
