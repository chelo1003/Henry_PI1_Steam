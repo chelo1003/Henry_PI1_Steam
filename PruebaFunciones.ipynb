{
 "cells": [
  {
   "cell_type": "code",
   "execution_count": 1,
   "metadata": {},
   "outputs": [],
   "source": [
    "import pandas as pd"
   ]
  },
  {
   "cell_type": "code",
   "execution_count": 2,
   "metadata": {},
   "outputs": [],
   "source": [
    "df_PlayTimeGenre = pd.read_csv(\"funciones/PlayTimeGenre.csv\", low_memory=False)"
   ]
  },
  {
   "cell_type": "code",
   "execution_count": 7,
   "metadata": {},
   "outputs": [],
   "source": [
    "def PlayTimeGenre(genre: str):\n",
    "    \n",
    "    genre = genre.capitalize()\n",
    "\n",
    "    genero_elegido = df_PlayTimeGenre[df_PlayTimeGenre['genre'] == genre]\n",
    "\n",
    "    if genero_elegido.empty:\n",
    "        return {\"No hay información para el género\": genre}\n",
    "    \n",
    "    anio = genero_elegido['release_date'].values[0]\n",
    "\n",
    "    return {\"El año con más horas jugadas para el género \" + genre + \" es el \" + str(anio)}"
   ]
  },
  {
   "cell_type": "code",
   "execution_count": 8,
   "metadata": {},
   "outputs": [
    {
     "data": {
      "text/plain": [
       "{'El año con más horas jugadas para el género Action es el 2012'}"
      ]
     },
     "execution_count": 8,
     "metadata": {},
     "output_type": "execute_result"
    }
   ],
   "source": [
    "PlayTimeGenre(\"acTion\")"
   ]
  },
  {
   "cell_type": "code",
   "execution_count": 10,
   "metadata": {},
   "outputs": [],
   "source": [
    "df_UserForGenre_1 = pd.read_csv(\"funciones/UserForGenre_1.csv\", low_memory=False)\n",
    "df_UserForGenre_2 = pd.read_csv(\"funciones/UserForGenre_2.csv\", low_memory=False)"
   ]
  },
  {
   "cell_type": "code",
   "execution_count": 9,
   "metadata": {},
   "outputs": [],
   "source": [
    "def UserForGenre(genre: str = None):\n",
    "    \n",
    "    genre = genre.capitalize()\n",
    "\n",
    "    genero_elegido = df_UserForGenre_1[df_UserForGenre_1['genre'] == genre]\n",
    "\n",
    "    if genero_elegido.empty:\n",
    "        return {\"No hay información para el género\": genre}\n",
    "\n",
    "    usuario = genero_elegido['user_id'].values[0]\n",
    "\n",
    "    usuario_top = df_UserForGenre_2[df_UserForGenre_2['user_id'] == usuario]\n",
    "\n",
    "    lista_horas_jugadas = [\n",
    "    {\"Año\": anio, \"minutos\": tiempo} for anio, tiempo in zip(usuario_top['posted'], usuario_top['playtime_forever'])\n",
    "    ]\n",
    "\n",
    "    return {\n",
    "        \"Usuario\": \"El usuario con más horas jugadas para el género \" + genre + \" es \" + usuario,\n",
    "        \"Horas jugadas\": lista_horas_jugadas\n",
    "    }"
   ]
  },
  {
   "cell_type": "code",
   "execution_count": 11,
   "metadata": {},
   "outputs": [
    {
     "data": {
      "text/plain": [
       "{'Usuario': 'El usuario con más horas jugadas para el género Action es Sp3ctre',\n",
       " 'Horas jugadas': [{'Año': '2015', 'minutos': 318642},\n",
       "  {'Año': 'sin dato de año', 'minutos': 1380665}]}"
      ]
     },
     "execution_count": 11,
     "metadata": {},
     "output_type": "execute_result"
    }
   ],
   "source": [
    "UserForGenre(\"action\")"
   ]
  },
  {
   "cell_type": "code",
   "execution_count": 8,
   "metadata": {},
   "outputs": [],
   "source": [
    "df_UsersRecommend = pd.read_csv(\"funciones/UsersRecommend.csv\", low_memory=False)"
   ]
  },
  {
   "cell_type": "code",
   "execution_count": 13,
   "metadata": {},
   "outputs": [],
   "source": [
    "def UsersRecommend(posted: int):\n",
    "\n",
    "    df_anio = df_UsersRecommend[df_UsersRecommend['posted'] == posted]\n",
    "\n",
    "    top_3_dict = {}\n",
    "    for i, row in df_anio.iterrows():\n",
    "        puesto = \"Puesto \" + str(i + 1 - df_anio.index[0])\n",
    "        top_3_dict[puesto] = row['app_name']\n",
    "\n",
    "    return top_3_dict"
   ]
  },
  {
   "cell_type": "code",
   "execution_count": 15,
   "metadata": {},
   "outputs": [
    {
     "data": {
      "text/plain": [
       "{'Puesto 1': 'Counter-Strike: Global Offensive',\n",
       " 'Puesto 2': 'Team Fortress 2',\n",
       " 'Puesto 3': \"Garry's Mod\"}"
      ]
     },
     "execution_count": 15,
     "metadata": {},
     "output_type": "execute_result"
    }
   ],
   "source": [
    "UsersRecommend(2015)"
   ]
  },
  {
   "cell_type": "code",
   "execution_count": 10,
   "metadata": {},
   "outputs": [],
   "source": [
    "df_UsersNotRecommend = pd.read_csv(\"funciones/UsersNotRecommend.csv\", low_memory=False)"
   ]
  },
  {
   "cell_type": "code",
   "execution_count": 11,
   "metadata": {},
   "outputs": [],
   "source": [
    "def UsersNotRecommend(posted: int):\n",
    "\n",
    "    df_anio = df_UsersNotRecommend[df_UsersNotRecommend['posted'] == posted]\n",
    "\n",
    "    top_3_dict = {}\n",
    "    for i, row in df_anio.iterrows():\n",
    "        puesto = \"Puesto \" + str(i + 1 - df_anio.index[0])\n",
    "        top_3_dict[puesto] = row['app_name']\n",
    "\n",
    "    return top_3_dict"
   ]
  },
  {
   "cell_type": "code",
   "execution_count": 12,
   "metadata": {},
   "outputs": [
    {
     "data": {
      "text/plain": [
       "{'Puesto 1': 'Counter-Strike: Global Offensive',\n",
       " 'Puesto 2': 'DayZ',\n",
       " 'Puesto 3': 'PAYDAY 2'}"
      ]
     },
     "execution_count": 12,
     "metadata": {},
     "output_type": "execute_result"
    }
   ],
   "source": [
    "UsersNotRecommend(2015)"
   ]
  },
  {
   "cell_type": "code",
   "execution_count": 3,
   "metadata": {},
   "outputs": [],
   "source": [
    "df_sentiment_analysis = pd.read_csv(\"funciones/sentiment_analysis.csv\", low_memory=False)"
   ]
  },
  {
   "cell_type": "code",
   "execution_count": 7,
   "metadata": {},
   "outputs": [],
   "source": [
    "def Sentiment_Analysis(year: int):\n",
    "    # Filtrar el DataFrame para obtener las filas que coinciden con el release_date dado\n",
    "    df_anio = df_sentiment_analysis[df_sentiment_analysis['release_date'] == year]\n",
    "    \n",
    "    # Convertir las filas coincidentes a una lista de diccionarios\n",
    "    filas_lista = df_anio.to_dict(orient='records')\n",
    "    \n",
    "    return filas_lista"
   ]
  },
  {
   "cell_type": "code",
   "execution_count": 9,
   "metadata": {},
   "outputs": [
    {
     "data": {
      "text/plain": [
       "[{'release_date': 2000, 'Negativo': 18, 'Neutro': 32, 'Positivo': 49}]"
      ]
     },
     "execution_count": 9,
     "metadata": {},
     "output_type": "execute_result"
    }
   ],
   "source": [
    "Sentiment_Analysis(2000)"
   ]
  }
 ],
 "metadata": {
  "kernelspec": {
   "display_name": "Python 3",
   "language": "python",
   "name": "python3"
  },
  "language_info": {
   "codemirror_mode": {
    "name": "ipython",
    "version": 3
   },
   "file_extension": ".py",
   "mimetype": "text/x-python",
   "name": "python",
   "nbconvert_exporter": "python",
   "pygments_lexer": "ipython3",
   "version": "3.11.5"
  }
 },
 "nbformat": 4,
 "nbformat_minor": 2
}
