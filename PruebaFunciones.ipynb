{
 "cells": [
  {
   "cell_type": "code",
   "execution_count": 1,
   "metadata": {},
   "outputs": [],
   "source": [
    "import pandas as pd\n",
    "import pyarrow.parquet as pq"
   ]
  },
  {
   "cell_type": "code",
   "execution_count": 9,
   "metadata": {},
   "outputs": [],
   "source": [
    "df_PlayTimeGenre = pd.read_csv(\"funciones/PlayTimeGenre.csv\", low_memory=False)"
   ]
  },
  {
   "cell_type": "code",
   "execution_count": 24,
   "metadata": {},
   "outputs": [],
   "source": [
    "def PlayTimeGenre(genre: str):\n",
    "    \n",
    "    genero_elegido = df_PlayTimeGenre[df_PlayTimeGenre['genre'].str.contains(genre, case=False)]\n",
    "\n",
    "    if genero_elegido.empty:\n",
    "        return {\"No hay información para el género\": genre}\n",
    "    \n",
    "    anio = genero_elegido['release_date'].values[0]\n",
    "\n",
    "    return {\"El año con más horas jugadas para el género \" + genre + \" es el \" + str(anio)}"
   ]
  },
  {
   "cell_type": "code",
   "execution_count": 29,
   "metadata": {},
   "outputs": [
    {
     "data": {
      "text/plain": [
       "{'El año con más horas jugadas para el género adventure es el 2011'}"
      ]
     },
     "execution_count": 29,
     "metadata": {},
     "output_type": "execute_result"
    }
   ],
   "source": [
    "PlayTimeGenre(\"adventure\")"
   ]
  },
  {
   "cell_type": "code",
   "execution_count": 3,
   "metadata": {},
   "outputs": [],
   "source": [
    "df_UserForGenre_1 = pd.read_csv(\"funciones/UserForGenre_1.csv\", low_memory=False)\n",
    "df_UserForGenre_2 = pd.read_csv(\"funciones/UserForGenre_2.csv\", low_memory=False)"
   ]
  },
  {
   "cell_type": "code",
   "execution_count": 29,
   "metadata": {},
   "outputs": [],
   "source": [
    "def UserForGenre(genre: str = None):\n",
    "\n",
    "    if genre == \"\":\n",
    "        return {\"Si no sabe que buscar, no busque nada.\"}\n",
    "    \n",
    "    genero_elegido = df_UserForGenre_2[df_UserForGenre_2['genre'].str.contains(genre, case=False)].iloc[0:1]\n",
    "\n",
    "    if genero_elegido.empty:\n",
    "        return {\"No hay información para el género\": genre}\n",
    "\n",
    "    usuario = genero_elegido['user_id'].values[0]\n",
    "\n",
    "    usuario_top = df_UserForGenre_2[(df_UserForGenre_2['user_id'] == usuario) & (df_UserForGenre_2['genre'].str.contains(genre, case=False))]\n",
    "\n",
    "    lista_horas_jugadas = [\n",
    "    {\"Año\": anio, \"minutos\": tiempo} for anio, tiempo in zip(usuario_top['posted'], usuario_top['playtime_forever'])\n",
    "    ]\n",
    "\n",
    "    return {\n",
    "        \"Usuario\": \"El usuario con más horas jugadas para el género \" + genre + \" es \" + usuario,\n",
    "        \"Horas jugadas\": lista_horas_jugadas\n",
    "    }"
   ]
  },
  {
   "cell_type": "code",
   "execution_count": 32,
   "metadata": {},
   "outputs": [
    {
     "name": "stdout",
     "output_type": "stream",
     "text": [
      "         user_id      genre posted  playtime_forever\n",
      "10  REBAS_AS_F-T  Adventure   2012              9268\n",
      "REBAS_AS_F-T\n"
     ]
    },
    {
     "data": {
      "text/plain": [
       "{'Usuario': 'El usuario con más horas jugadas para el género AdveNTure es REBAS_AS_F-T',\n",
       " 'Horas jugadas': [{'Año': '2012', 'minutos': 9268},\n",
       "  {'Año': 'sin dato de año', 'minutos': 2182283}]}"
      ]
     },
     "execution_count": 32,
     "metadata": {},
     "output_type": "execute_result"
    }
   ],
   "source": [
    "UserForGenre(\"AdveNTure\")"
   ]
  },
  {
   "cell_type": "code",
   "execution_count": 28,
   "metadata": {},
   "outputs": [
    {
     "data": {
      "text/html": [
       "<div>\n",
       "<style scoped>\n",
       "    .dataframe tbody tr th:only-of-type {\n",
       "        vertical-align: middle;\n",
       "    }\n",
       "\n",
       "    .dataframe tbody tr th {\n",
       "        vertical-align: top;\n",
       "    }\n",
       "\n",
       "    .dataframe thead th {\n",
       "        text-align: right;\n",
       "    }\n",
       "</style>\n",
       "<table border=\"1\" class=\"dataframe\">\n",
       "  <thead>\n",
       "    <tr style=\"text-align: right;\">\n",
       "      <th></th>\n",
       "      <th>user_id</th>\n",
       "      <th>genre</th>\n",
       "      <th>posted</th>\n",
       "      <th>playtime_forever</th>\n",
       "    </tr>\n",
       "  </thead>\n",
       "  <tbody>\n",
       "    <tr>\n",
       "      <th>23</th>\n",
       "      <td>shinomegami</td>\n",
       "      <td>RPG</td>\n",
       "      <td>2015</td>\n",
       "      <td>530882</td>\n",
       "    </tr>\n",
       "  </tbody>\n",
       "</table>\n",
       "</div>"
      ],
      "text/plain": [
       "        user_id genre posted  playtime_forever\n",
       "23  shinomegami   RPG   2015            530882"
      ]
     },
     "execution_count": 28,
     "metadata": {},
     "output_type": "execute_result"
    }
   ],
   "source": [
    "genero_elegido = df_UserForGenre_2[df_UserForGenre_2['genre'].str.contains(\"rpg\", case=False)].iloc[0:1]\n",
    "genero_elegido"
   ]
  },
  {
   "cell_type": "code",
   "execution_count": 37,
   "metadata": {},
   "outputs": [],
   "source": [
    "df_UsersRecommend = pd.read_csv(\"funciones/UsersRecommend.csv\", low_memory=False)"
   ]
  },
  {
   "cell_type": "code",
   "execution_count": 50,
   "metadata": {},
   "outputs": [],
   "source": [
    "def UsersRecommend(posted: int):\n",
    "\n",
    "    if type(posted) != int:\n",
    "        return (\"Ingrese un número.\")\n",
    "    \n",
    "    df_anio = df_UsersRecommend[df_UsersRecommend['posted'] == posted]\n",
    "\n",
    "    if df_anio.empty:\n",
    "        return (\"No hay datos para el año indicado.\")\n",
    "\n",
    "    top_3_dict = {}\n",
    "    for i, row in df_anio.iterrows():\n",
    "        puesto = \"Puesto \" + str(i + 1 - df_anio.index[0])\n",
    "        top_3_dict[puesto] = row['app_name']\n",
    "\n",
    "    return top_3_dict"
   ]
  },
  {
   "cell_type": "code",
   "execution_count": 58,
   "metadata": {},
   "outputs": [
    {
     "data": {
      "text/plain": [
       "'Ingrese un número.'"
      ]
     },
     "execution_count": 58,
     "metadata": {},
     "output_type": "execute_result"
    }
   ],
   "source": [
    "UsersRecommend(\"ca3\")"
   ]
  },
  {
   "cell_type": "code",
   "execution_count": 59,
   "metadata": {},
   "outputs": [],
   "source": [
    "df_UsersNotRecommend = pd.read_csv(\"funciones/UsersNotRecommend.csv\", low_memory=False)"
   ]
  },
  {
   "cell_type": "code",
   "execution_count": 60,
   "metadata": {},
   "outputs": [],
   "source": [
    "def UsersNotRecommend(posted: int):\n",
    "\n",
    "    if type(posted) != int:\n",
    "        return (\"Ingrese un número.\")\n",
    "    \n",
    "    df_anio = df_UsersNotRecommend[df_UsersNotRecommend['posted'] == posted]\n",
    "\n",
    "    if df_anio.empty:\n",
    "        return (\"No hay datos para el año indicado.\")\n",
    "    \n",
    "    top_3_dict = {}\n",
    "    for i, row in df_anio.iterrows():\n",
    "        puesto = \"Puesto \" + str(i + 1 - df_anio.index[0])\n",
    "        top_3_dict[puesto] = row['app_name']\n",
    "\n",
    "    return top_3_dict"
   ]
  },
  {
   "cell_type": "code",
   "execution_count": 64,
   "metadata": {},
   "outputs": [
    {
     "data": {
      "text/plain": [
       "'No hay datos para el año indicado.'"
      ]
     },
     "execution_count": 64,
     "metadata": {},
     "output_type": "execute_result"
    }
   ],
   "source": [
    "UsersNotRecommend(433)"
   ]
  },
  {
   "cell_type": "code",
   "execution_count": 65,
   "metadata": {},
   "outputs": [],
   "source": [
    "df_sentiment_analysis = pd.read_csv(\"funciones/sentiment_analysis.csv\", low_memory=False)"
   ]
  },
  {
   "cell_type": "code",
   "execution_count": 71,
   "metadata": {},
   "outputs": [],
   "source": [
    "def Sentiment_Analysis(year: int):\n",
    "\n",
    "    if type(year) != int:\n",
    "        return (\"Ingrese un número.\")\n",
    "    \n",
    "    # Filtrar el DataFrame para obtener las filas que coinciden con el release_date dado\n",
    "    df_anio = df_sentiment_analysis[df_sentiment_analysis['release_date'] == year]\n",
    " \n",
    "    if df_anio.empty:\n",
    "        return (\"No hay datos para el año indicado.\")\n",
    "       \n",
    "    # Convertir las filas coincidentes a una lista de diccionarios\n",
    "    filas_lista = df_anio.to_dict(orient='records')\n",
    "    \n",
    "    return filas_lista"
   ]
  },
  {
   "cell_type": "code",
   "execution_count": 74,
   "metadata": {},
   "outputs": [
    {
     "data": {
      "text/plain": [
       "[{'release_date': 2013, 'Negativo': 1637, 'Neutro': 1555, 'Positivo': 4394}]"
      ]
     },
     "execution_count": 74,
     "metadata": {},
     "output_type": "execute_result"
    }
   ],
   "source": [
    "Sentiment_Analysis(2013)"
   ]
  },
  {
   "cell_type": "code",
   "execution_count": 2,
   "metadata": {},
   "outputs": [],
   "source": [
    "df_matriz_similitudes = pd.read_parquet(\"ML/df_matriz_similitudes.parquet\")"
   ]
  },
  {
   "cell_type": "code",
   "execution_count": 3,
   "metadata": {},
   "outputs": [],
   "source": [
    "def recomendacion_juego(item_id: int):\n",
    "    N = 5\n",
    "\n",
    "    if type(item_id) != int:\n",
    "        return (\"Ingrese un id de juego.\")  \n",
    "\n",
    "    if item_id not in df_matriz_similitudes.index:\n",
    "        return (\"No se encuentra un juego con el id ingresado.\")\n",
    "\n",
    "    # Busca la fila de similitud para el juego de referencia\n",
    "    fila_similitud = df_matriz_similitudes.loc[item_id]\n",
    "\n",
    "    # Ordena los valores de similitud en orden descendente\n",
    "    juegos_similares = fila_similitud.sort_values(ascending=False)\n",
    "\n",
    "    juego_seleccionado = juegos_similares[0:1]\n",
    "    juegos_recomendados = juegos_similares[1:N+1]  # Excluye el juego de referencia\n",
    "    \n",
    "\n",
    "    return {\n",
    "        \"El juego \":juego_seleccionado.index[0], \n",
    "        \"es similar a estos 5 juegos\": juegos_recomendados.index.to_list()       \n",
    "    }"
   ]
  },
  {
   "cell_type": "code",
   "execution_count": 5,
   "metadata": {},
   "outputs": [
    {
     "data": {
      "text/plain": [
       "'No se encuentra un juego con el id ingresado.'"
      ]
     },
     "execution_count": 5,
     "metadata": {},
     "output_type": "execute_result"
    }
   ],
   "source": [
    "recomendacion_juego(20423432424211231)"
   ]
  }
 ],
 "metadata": {
  "kernelspec": {
   "display_name": "Python 3",
   "language": "python",
   "name": "python3"
  },
  "language_info": {
   "codemirror_mode": {
    "name": "ipython",
    "version": 3
   },
   "file_extension": ".py",
   "mimetype": "text/x-python",
   "name": "python",
   "nbconvert_exporter": "python",
   "pygments_lexer": "ipython3",
   "version": "3.11.5"
  }
 },
 "nbformat": 4,
 "nbformat_minor": 2
}
