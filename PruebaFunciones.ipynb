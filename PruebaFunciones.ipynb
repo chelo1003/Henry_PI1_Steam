{
 "cells": [
  {
   "cell_type": "code",
   "execution_count": 1,
   "metadata": {},
   "outputs": [],
   "source": [
    "import pandas as pd\n",
    "import pyarrow.parquet as pq"
   ]
  },
  {
   "cell_type": "code",
   "execution_count": 9,
   "metadata": {},
   "outputs": [],
   "source": [
    "df_PlayTimeGenre = pd.read_csv(\"funciones/PlayTimeGenre.csv\", low_memory=False)"
   ]
  },
  {
   "cell_type": "code",
   "execution_count": 24,
   "metadata": {},
   "outputs": [],
   "source": [
    "def PlayTimeGenre(genre: str):\n",
    "    \n",
    "    genero_elegido = df_PlayTimeGenre[df_PlayTimeGenre['genre'].str.contains(genre, case=False)]\n",
    "\n",
    "    if genero_elegido.empty:\n",
    "        return {\"No hay información para el género\": genre}\n",
    "    \n",
    "    anio = genero_elegido['release_date'].values[0]\n",
    "\n",
    "    return {\"El año con más horas jugadas para el género \" + genre + \" es el \" + str(anio)}"
   ]
  },
  {
   "cell_type": "code",
   "execution_count": 29,
   "metadata": {},
   "outputs": [
    {
     "data": {
      "text/plain": [
       "{'El año con más horas jugadas para el género adventure es el 2011'}"
      ]
     },
     "execution_count": 29,
     "metadata": {},
     "output_type": "execute_result"
    }
   ],
   "source": [
    "PlayTimeGenre(\"adventure\")"
   ]
  },
  {
   "cell_type": "code",
   "execution_count": 2,
   "metadata": {},
   "outputs": [],
   "source": [
    "df_UserForGenre_1 = pd.read_csv(\"funciones/UserForGenre_1.csv\", low_memory=False)\n",
    "df_UserForGenre_2 = pd.read_csv(\"funciones/UserForGenre_2.csv\", low_memory=False)"
   ]
  },
  {
   "cell_type": "code",
   "execution_count": 34,
   "metadata": {},
   "outputs": [],
   "source": [
    "def UserForGenre(genre: str = None):\n",
    "\n",
    "    if genre == \"\":\n",
    "        return {\"Si no sabe que buscar, no busque nada.\"}\n",
    "    \n",
    "    genero_elegido = df_UserForGenre_1[df_UserForGenre_1['genre'].str.contains(genre, case=False)]\n",
    "\n",
    "    if genero_elegido.empty:\n",
    "        return {\"No hay información para el género\": genre}\n",
    "\n",
    "    usuario = genero_elegido['user_id'].values[0]\n",
    "\n",
    "    usuario_top = df_UserForGenre_2[(df_UserForGenre_2['user_id'] == usuario) & (df_UserForGenre_2['genre'].str.contains(genre, case=False))]\n",
    "\n",
    "    lista_horas_jugadas = [\n",
    "    {\"Año\": anio, \"minutos\": tiempo} for anio, tiempo in zip(usuario_top['posted'], usuario_top['playtime_forever'])\n",
    "    ]\n",
    "\n",
    "    return {\n",
    "        \"Usuario\": \"El usuario con más horas jugadas para el género \" + genre + \" es \" + usuario,\n",
    "        \"Horas jugadas\": lista_horas_jugadas\n",
    "    }"
   ]
  },
  {
   "cell_type": "code",
   "execution_count": 57,
   "metadata": {},
   "outputs": [
    {
     "data": {
      "text/plain": [
       "{'No hay información para el género': 'asa'}"
      ]
     },
     "execution_count": 57,
     "metadata": {},
     "output_type": "execute_result"
    }
   ],
   "source": [
    "UserForGenre(\"asa\")"
   ]
  },
  {
   "cell_type": "code",
   "execution_count": 37,
   "metadata": {},
   "outputs": [],
   "source": [
    "df_UsersRecommend = pd.read_csv(\"funciones/UsersRecommend.csv\", low_memory=False)"
   ]
  },
  {
   "cell_type": "code",
   "execution_count": 50,
   "metadata": {},
   "outputs": [],
   "source": [
    "def UsersRecommend(posted: int):\n",
    "\n",
    "    if type(posted) != int:\n",
    "        return (\"Ingrese un número.\")\n",
    "    \n",
    "    df_anio = df_UsersRecommend[df_UsersRecommend['posted'] == posted]\n",
    "\n",
    "    if df_anio.empty:\n",
    "        return (\"No hay datos para el año indicado.\")\n",
    "\n",
    "    top_3_dict = {}\n",
    "    for i, row in df_anio.iterrows():\n",
    "        puesto = \"Puesto \" + str(i + 1 - df_anio.index[0])\n",
    "        top_3_dict[puesto] = row['app_name']\n",
    "\n",
    "    return top_3_dict"
   ]
  },
  {
   "cell_type": "code",
   "execution_count": 58,
   "metadata": {},
   "outputs": [
    {
     "data": {
      "text/plain": [
       "'Ingrese un número.'"
      ]
     },
     "execution_count": 58,
     "metadata": {},
     "output_type": "execute_result"
    }
   ],
   "source": [
    "UsersRecommend(\"ca3\")"
   ]
  },
  {
   "cell_type": "code",
   "execution_count": 59,
   "metadata": {},
   "outputs": [],
   "source": [
    "df_UsersNotRecommend = pd.read_csv(\"funciones/UsersNotRecommend.csv\", low_memory=False)"
   ]
  },
  {
   "cell_type": "code",
   "execution_count": 60,
   "metadata": {},
   "outputs": [],
   "source": [
    "def UsersNotRecommend(posted: int):\n",
    "\n",
    "    if type(posted) != int:\n",
    "        return (\"Ingrese un número.\")\n",
    "    \n",
    "    df_anio = df_UsersNotRecommend[df_UsersNotRecommend['posted'] == posted]\n",
    "\n",
    "    if df_anio.empty:\n",
    "        return (\"No hay datos para el año indicado.\")\n",
    "    \n",
    "    top_3_dict = {}\n",
    "    for i, row in df_anio.iterrows():\n",
    "        puesto = \"Puesto \" + str(i + 1 - df_anio.index[0])\n",
    "        top_3_dict[puesto] = row['app_name']\n",
    "\n",
    "    return top_3_dict"
   ]
  },
  {
   "cell_type": "code",
   "execution_count": 64,
   "metadata": {},
   "outputs": [
    {
     "data": {
      "text/plain": [
       "'No hay datos para el año indicado.'"
      ]
     },
     "execution_count": 64,
     "metadata": {},
     "output_type": "execute_result"
    }
   ],
   "source": [
    "UsersNotRecommend(433)"
   ]
  },
  {
   "cell_type": "code",
   "execution_count": 65,
   "metadata": {},
   "outputs": [],
   "source": [
    "df_sentiment_analysis = pd.read_csv(\"funciones/sentiment_analysis.csv\", low_memory=False)"
   ]
  },
  {
   "cell_type": "code",
   "execution_count": 71,
   "metadata": {},
   "outputs": [],
   "source": [
    "def Sentiment_Analysis(year: int):\n",
    "\n",
    "    if type(year) != int:\n",
    "        return (\"Ingrese un número.\")\n",
    "    \n",
    "    # Filtrar el DataFrame para obtener las filas que coinciden con el release_date dado\n",
    "    df_anio = df_sentiment_analysis[df_sentiment_analysis['release_date'] == year]\n",
    " \n",
    "    if df_anio.empty:\n",
    "        return (\"No hay datos para el año indicado.\")\n",
    "       \n",
    "    # Convertir las filas coincidentes a una lista de diccionarios\n",
    "    filas_lista = df_anio.to_dict(orient='records')\n",
    "    \n",
    "    return filas_lista"
   ]
  },
  {
   "cell_type": "code",
   "execution_count": 74,
   "metadata": {},
   "outputs": [
    {
     "data": {
      "text/plain": [
       "[{'release_date': 2013, 'Negativo': 1637, 'Neutro': 1555, 'Positivo': 4394}]"
      ]
     },
     "execution_count": 74,
     "metadata": {},
     "output_type": "execute_result"
    }
   ],
   "source": [
    "Sentiment_Analysis(2013)"
   ]
  },
  {
   "cell_type": "code",
   "execution_count": 88,
   "metadata": {},
   "outputs": [],
   "source": [
    "df_matriz_similitudes = pd.read_parquet(\"ML/df_matriz_similitudes.parquet\")"
   ]
  },
  {
   "cell_type": "code",
   "execution_count": 96,
   "metadata": {},
   "outputs": [],
   "source": [
    "def recomendacion_juego(item_id: int):\n",
    "    N = 5\n",
    "\n",
    "    if type(item_id) != int:\n",
    "        return (\"Ingrese un id de juego.\")  \n",
    "\n",
    "    if item_id not in df_matriz_similitudes.index:\n",
    "        return (\"No se encuentra un juego con el id ingresado.\")\n",
    "\n",
    "    # Busca la fila de similitud para el juego de referencia\n",
    "    fila_similitud = df_matriz_similitudes.loc[item_id]\n",
    "\n",
    "    # Ordena los valores de similitud en orden descendente\n",
    "    juegos_similares = fila_similitud.sort_values(ascending=False)\n",
    "\n",
    "    juego_seleccionado = juegos_similares[0:1]\n",
    "    juegos_recomendados = juegos_similares[1:N+1]  # Excluye el juego de referencia\n",
    "    \n",
    "\n",
    "    return {\n",
    "        \"El juego \":juego_seleccionado.index[0], \n",
    "        \"es similar a estos 5 juegos\": juegos_recomendados.index.to_list()       \n",
    "    }"
   ]
  },
  {
   "cell_type": "code",
   "execution_count": 99,
   "metadata": {},
   "outputs": [
    {
     "data": {
      "text/plain": [
       "{'El juego ': 'Team Fortress Classic',\n",
       " 'es similar a estos 5 juegos': ['Half-Life: Blue Shift',\n",
       "  'Day of Defeat',\n",
       "  'DOOM 3',\n",
       "  'Bloody Good Time',\n",
       "  'Aliens versus Predator Classic 2000']}"
      ]
     },
     "execution_count": 99,
     "metadata": {},
     "output_type": "execute_result"
    }
   ],
   "source": [
    "recomendacion_juego(20)"
   ]
  },
  {
   "cell_type": "code",
   "execution_count": 14,
   "metadata": {},
   "outputs": [
    {
     "data": {
      "text/plain": [
       "Counter-Strike               0.908000\n",
       "Team Fortress Classic        0.139628\n",
       "Day of Defeat                0.033290\n",
       "Deathmatch Classic          -0.116239\n",
       "Half-Life: Opposing Force    0.365614\n",
       "                               ...   \n",
       "True or False               -0.167369\n",
       "Super Switch                -0.218499\n",
       "You Have 10 Seconds 2       -0.169409\n",
       "Galactic Storm              -0.116635\n",
       "What The Box?               -0.103563\n",
       "Name: 10, Length: 2834, dtype: float64"
      ]
     },
     "execution_count": 14,
     "metadata": {},
     "output_type": "execute_result"
    }
   ],
   "source": [
    "\n",
    "fila_similitud = df_matriz_similitudes.iloc[10]\n",
    "fila_similitud"
   ]
  },
  {
   "cell_type": "code",
   "execution_count": 16,
   "metadata": {},
   "outputs": [
    {
     "data": {
      "text/plain": [
       "Counter-Strike: Source       1.000000\n",
       "Portal 2                     0.997696\n",
       "PAYDAY™ The Heist            0.997655\n",
       "Half-Life 2                  0.995833\n",
       "Saints Row IV                0.994714\n",
       "                               ...   \n",
       "One Day For Ched            -0.217504\n",
       "Puppy Dog: Jigsaw Puzzles   -0.217601\n",
       "Real Warfare 1242           -0.217940\n",
       "Super Switch                -0.218499\n",
       "Nanofights                  -0.219060\n",
       "Name: 10, Length: 2834, dtype: float64"
      ]
     },
     "execution_count": 16,
     "metadata": {},
     "output_type": "execute_result"
    }
   ],
   "source": [
    "juegos_similares = fila_similitud.sort_values(ascending=False)\n",
    "juegos_similares"
   ]
  },
  {
   "cell_type": "code",
   "execution_count": 30,
   "metadata": {},
   "outputs": [
    {
     "data": {
      "text/plain": [
       "'Counter-Strike: Source'"
      ]
     },
     "execution_count": 30,
     "metadata": {},
     "output_type": "execute_result"
    }
   ],
   "source": [
    "juego_seleccionado = juegos_similares[:1]\n",
    "juego_seleccionado.index[0]"
   ]
  },
  {
   "cell_type": "code",
   "execution_count": 48,
   "metadata": {},
   "outputs": [
    {
     "name": "stdout",
     "output_type": "stream",
     "text": [
      "Portal 2\n",
      "PAYDAY™ The Heist\n",
      "Half-Life 2\n",
      "Saints Row IV\n",
      "Left 4 Dead 2\n"
     ]
    }
   ],
   "source": [
    "juegos_recomendados = juegos_similares[1:5+1]\n",
    "# Formatear la salida\n",
    "for nombre in juegos_recomendados.index:\n",
    "    print(nombre)\n"
   ]
  },
  {
   "cell_type": "code",
   "execution_count": 56,
   "metadata": {},
   "outputs": [
    {
     "data": {
      "text/plain": [
       "['Portal 2',\n",
       " 'PAYDAY™ The Heist',\n",
       " 'Half-Life 2',\n",
       " 'Saints Row IV',\n",
       " 'Left 4 Dead 2']"
      ]
     },
     "execution_count": 56,
     "metadata": {},
     "output_type": "execute_result"
    }
   ],
   "source": [
    "#juegos_recomendados.index\n",
    "juegos_recomendados.index.to_list()"
   ]
  }
 ],
 "metadata": {
  "kernelspec": {
   "display_name": "Python 3",
   "language": "python",
   "name": "python3"
  },
  "language_info": {
   "codemirror_mode": {
    "name": "ipython",
    "version": 3
   },
   "file_extension": ".py",
   "mimetype": "text/x-python",
   "name": "python",
   "nbconvert_exporter": "python",
   "pygments_lexer": "ipython3",
   "version": "3.11.5"
  }
 },
 "nbformat": 4,
 "nbformat_minor": 2
}
